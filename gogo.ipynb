{
 "cells": [
  {
   "cell_type": "markdown",
   "metadata": {},
   "source": [
    "## 데이터 전처리"
   ]
  },
  {
   "cell_type": "code",
   "execution_count": null,
   "metadata": {
    "collapsed": true
   },
   "outputs": [],
   "source": [
    "%matplotlib inline\n",
    "\n",
    "data = pd.read_csv(\"data0703.csv\")\n",
    "data = data.iloc[:,1:]\n",
    "\n",
    "from sklearn.cluster import KMeans\n",
    "region1 = data[[\"latitude\", \"longitude\"]]\n",
    "model = KMeans(n_clusters=10).fit(region1)\n",
    "data[\"cluster\"] = model.labels_\n",
    "\n",
    "del data[\"fips\"]\n",
    "del data[\"latitude\"]\n",
    "del data[\"longitude\"]\n",
    "del data[\"taxvaluedollarcnt\"]\n",
    "del data[\"landtaxvaluedollarcnt\"]\n",
    "del data[\"taxamount\"]\n",
    "\n",
    "data = data[data[\"unitcnt\"]==1]\n",
    "data = data[data[\"bedroomcnt\"]!=0]\n",
    "data = data[data[\"bathroomcnt\"]!=0]\n",
    "del data[\"unitcnt\"]\n",
    "\n",
    "data.columns = [\"aircondition\", \"bath\", \"bed\", \"qualitytype\", \"cfsf\", \"heating\", \"lssf\", \"spa\", \"pool\", \"landuse\", \"unitcnt\", \"year\", \"price\",\"cluster\"]\n",
    "data = data[[\"aircondition\", \"bath\", \"bed\", \"qualitytype\", \"cfsf\", \"heating\", \"lssf\", \"spa\", \"pool\", \"landuse\", \"unitcnt\", \"year\",\"cluster\", \"price\"]]\n",
    "#dfy = data[\"price\"]\n",
    "#dfX = data[[\"aircondition\", \"bath\", \"bed\", \"qualitytype\", \"cfsf\", \"heating\", \"lssf\", \"spa\", \"pool\", \"landuse\", \"unitcnt\", \"year\", \"cluster\"]]"
   ]
  },
  {
   "cell_type": "markdown",
   "metadata": {},
   "source": [
    "## 아웃라이어 제거 (2.5, 97.5)"
   ]
  },
  {
   "cell_type": "code",
   "execution_count": null,
   "metadata": {
    "collapsed": true
   },
   "outputs": [],
   "source": [
    "def outlier1(data, feature):\n",
    "    low = np.percentile(data.feature, 2.5)\n",
    "    up = np.percentile(data.feature, 97.5)\n",
    "\n",
    "    data = data[(data.feature > low) & (data.feature < up)]\n",
    "    return data"
   ]
  },
  {
   "cell_type": "markdown",
   "metadata": {},
   "source": [
    "## 레버리지와 아웃라이어"
   ]
  },
  {
   "cell_type": "code",
   "execution_count": 5,
   "metadata": {
    "collapsed": true
   },
   "outputs": [],
   "source": [
    "def outlier(unit_data, n):\n",
    "    num = n\n",
    "    unit_data2 = unit_data\n",
    "    for i in range(num):\n",
    "        model = sm.OLS.from_formula(\"price ~ pc1 + pc2 + pc4 + pc6 + C(landuse) + C(cluster)\", data=unit_data2).fit()\n",
    "        print(model.summary())\n",
    "\n",
    "        influence = model.get_influence()\n",
    "        cooks_d2, pvals = influence.cooks_distance\n",
    "        fox_cr = 4 / (len(unit_data2) - model.df_model - 1)\n",
    "        idx = np.where(cooks_d2 > fox_cr)[0]\n",
    "        \n",
    "        print(str(i)+\"번째\")\n",
    "        print(len(idx))\n",
    "        print(\"\")\n",
    "        \n",
    "        list(idx)\n",
    "        i = np.arange(len(unit_data2))\n",
    "        unit_data2 = unit_data2.set_index(i)\n",
    "        unit_data2 = unit_data2.drop(idx)\n",
    "        unit_data2.shape    \n",
    "    return unit_data2"
   ]
  },
  {
   "cell_type": "markdown",
   "metadata": {},
   "source": [
    "## correlation matrix"
   ]
  },
  {
   "cell_type": "code",
   "execution_count": 1,
   "metadata": {
    "collapsed": true
   },
   "outputs": [],
   "source": [
    "def corrmatrix(df):\n",
    "    corrmat = df.corr()\n",
    "    plt.subplots(figsize=(11, 9))\n",
    "    cmap = sns.diverging_palette(220, 10, as_cmap=True)\n",
    "    sns.heatmap(corrmat, vmax=.8, square=True, cmap=cmap)"
   ]
  },
  {
   "cell_type": "markdown",
   "metadata": {},
   "source": [
    "## 지역별 클러스터링"
   ]
  },
  {
   "cell_type": "code",
   "execution_count": 2,
   "metadata": {
    "collapsed": true
   },
   "outputs": [],
   "source": [
    "from sklearn.cluster import KMeans\n",
    "def clustering(data):\n",
    "    region1 = data[[\"latitude\", \"longitude\"]]\n",
    "    model = KMeans(n_clusters=10).fit(region1)\n",
    "    data[\"cluster\"] = model.labels_\n",
    "    return data"
   ]
  },
  {
   "cell_type": "markdown",
   "metadata": {},
   "source": [
    "## 표준화"
   ]
  },
  {
   "cell_type": "code",
   "execution_count": 3,
   "metadata": {
    "collapsed": true
   },
   "outputs": [],
   "source": [
    "#독립변수들 표준화 \n",
    "from sklearn.preprocessing import StandardScaler\n",
    "def std(data):\n",
    "    numeric_columns = [\"aircondition\", \"bath\", \"bed\", \"qualitytype\", \"cfsf\", \"heating\", \"lssf\", \"spa\", \"pool\", \"unitcnt\", \"year\"]\n",
    "    stdData = StandardScaler().fit_transform(data[numeric_columns])\n",
    "    stdData = pd.DataFrame(stdData, columns=numeric_columns)\n",
    "    return stdData"
   ]
  },
  {
   "cell_type": "markdown",
   "metadata": {},
   "source": [
    "## pca"
   ]
  },
  {
   "cell_type": "code",
   "execution_count": 4,
   "metadata": {
    "collapsed": true
   },
   "outputs": [],
   "source": [
    "from sklearn.decomposition import PCA as sklearnPCA\n",
    "def pca(data):\n",
    "    tempPCA = sklearnPCA(n_components=8)\n",
    "    newIndex = tempPCA.fit_transform(data)\n",
    "    newData = pd.DataFrame(newIndex)\n",
    "    return newData"
   ]
  },
  {
   "cell_type": "markdown",
   "metadata": {},
   "source": [
    "## 카테고리 변수 추가"
   ]
  },
  {
   "cell_type": "code",
   "execution_count": null,
   "metadata": {
    "collapsed": true
   },
   "outputs": [],
   "source": [
    "newData[\"landuse\"] = data2[\"landuse\"]\n",
    "newData[\"cluster\"] = data2[\"cluster\"]\n",
    "newData[\"price\"] = data2[\"price\"]"
   ]
  },
  {
   "cell_type": "markdown",
   "metadata": {},
   "source": [
    "## 예측값 실제값 비교"
   ]
  },
  {
   "cell_type": "code",
   "execution_count": 6,
   "metadata": {
    "collapsed": true
   },
   "outputs": [],
   "source": [
    "def predict(model, data):\n",
    "    pred = model.fittedvalues\n",
    "    prediction = pd.DataFrame((pred))\n",
    "    prediction[\"price\"] = data[\"price\"]\n",
    "    prediction.columns = [\"predict\", \"price\"]\n",
    "    prediction.head(30)"
   ]
  },
  {
   "cell_type": "code",
   "execution_count": null,
   "metadata": {
    "collapsed": true
   },
   "outputs": [],
   "source": []
  }
 ],
 "metadata": {
  "kernelspec": {
   "display_name": "Python 2",
   "language": "python",
   "name": "python2"
  },
  "language_info": {
   "codemirror_mode": {
    "name": "ipython",
    "version": 2
   },
   "file_extension": ".py",
   "mimetype": "text/x-python",
   "name": "python",
   "nbconvert_exporter": "python",
   "pygments_lexer": "ipython2",
   "version": "2.7.13"
  }
 },
 "nbformat": 4,
 "nbformat_minor": 2
}
