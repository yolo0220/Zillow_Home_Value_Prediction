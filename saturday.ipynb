{
 "cells": [
  {
   "cell_type": "code",
   "execution_count": 47,
   "metadata": {
    "collapsed": true
   },
   "outputs": [],
   "source": [
    "%matplotlib inline"
   ]
  },
  {
   "cell_type": "code",
   "execution_count": 48,
   "metadata": {
    "collapsed": true
   },
   "outputs": [],
   "source": [
    "df = pd.read_csv(\"data_final2.csv\")\n",
    "df = df.iloc[:,1:]"
   ]
  },
  {
   "cell_type": "code",
   "execution_count": 58,
   "metadata": {
    "collapsed": true
   },
   "outputs": [],
   "source": [
    "del df[\"lot\"]"
   ]
  },
  {
   "cell_type": "markdown",
   "metadata": {},
   "source": [
    "## 종속변수 가격에 로그를 취해주면 정규분포에 가까워짐"
   ]
  },
  {
   "cell_type": "code",
   "execution_count": 49,
   "metadata": {
    "scrolled": true
   },
   "outputs": [
    {
     "data": {
      "text/plain": [
       "<matplotlib.axes._subplots.AxesSubplot at 0x10febd650>"
      ]
     },
     "execution_count": 49,
     "metadata": {},
     "output_type": "execute_result"
    },
    {
     "data": {
      "image/png": "[encoded data removed]",
      "text/plain": [
       "<matplotlib.figure.Figure at 0x10f3e8b10>"
      ]
     },
     "metadata": {},
     "output_type": "display_data"
    }
   ],
   "source": [
    "sns.distplot(np.log(df[\"price\"]))"
   ]
  },
  {
   "cell_type": "markdown",
   "metadata": {},
   "source": [
    "## cfsf 정규분포 형태로 만들기 위해 로그 변환"
   ]
  },
  {
   "cell_type": "code",
   "execution_count": 50,
   "metadata": {},
   "outputs": [
    {
     "data": {
      "text/plain": [
       "<matplotlib.axes._subplots.AxesSubplot at 0x11029f190>"
      ]
     },
     "execution_count": 50,
     "metadata": {},
     "output_type": "execute_result"
    },
    {
     "data": {
      "image/png": "[encoded data removed]",
      "text/plain": [
       "<matplotlib.figure.Figure at 0x1102a9710>"
      ]
     },
     "metadata": {},
     "output_type": "display_data"
    }
   ],
   "source": [
    "sns.distplot(np.log(df[\"cfsf\"]))"
   ]
  },
  {
   "cell_type": "markdown",
   "metadata": {},
   "source": [
    "## qualitytype을 카테고리로 묶음"
   ]
  },
  {
   "cell_type": "code",
   "execution_count": 51,
   "metadata": {
    "collapsed": true
   },
   "outputs": [],
   "source": [
    "df[\"qualitytype\"][df[\"qualitytype\"] <=3] = \"A\"\n",
    "df[\"qualitytype\"][df[\"qualitytype\"] <=6] = \"B\"\n",
    "df[\"qualitytype\"][df[\"qualitytype\"] <=8] = \"C\"\n",
    "df[\"qualitytype\"][df[\"qualitytype\"] <=10] = \"D\"\n",
    "df[\"qualitytype\"][df[\"qualitytype\"] <=13] = \"E\""
   ]
  },
  {
   "cell_type": "code",
   "execution_count": 52,
   "metadata": {},
   "outputs": [
    {
     "data": {
      "text/html": [
       "<div>\n",
       "<style>\n",
       "    .dataframe thead tr:only-child th {\n",
       "        text-align: right;\n",
       "    }\n",
       "\n",
       "    .dataframe thead th {\n",
       "        text-align: left;\n",
       "    }\n",
       "\n",
       "    .dataframe tbody tr th {\n",
       "        vertical-align: top;\n",
       "    }\n",
       "</style>\n",
       "<table border=\"1\" class=\"dataframe\">\n",
       "  <thead>\n",
       "    <tr style=\"text-align: right;\">\n",
       "      <th></th>\n",
       "      <th>bath</th>\n",
       "      <th>bed</th>\n",
       "      <th>qualitytype</th>\n",
       "      <th>cfsf</th>\n",
       "      <th>lot</th>\n",
       "      <th>aircondition</th>\n",
       "      <th>heating</th>\n",
       "      <th>spa</th>\n",
       "      <th>pool</th>\n",
       "      <th>landuse</th>\n",
       "      <th>year</th>\n",
       "      <th>city</th>\n",
       "      <th>price</th>\n",
       "    </tr>\n",
       "  </thead>\n",
       "  <tbody>\n",
       "    <tr>\n",
       "      <th>0</th>\n",
       "      <td>2.0</td>\n",
       "      <td>2.0</td>\n",
       "      <td>B</td>\n",
       "      <td>1090.0</td>\n",
       "      <td>40247.0</td>\n",
       "      <td>1.0</td>\n",
       "      <td>2.0</td>\n",
       "      <td>0.0</td>\n",
       "      <td>0.0</td>\n",
       "      <td>266.0</td>\n",
       "      <td>2004.0</td>\n",
       "      <td>12447.0</td>\n",
       "      <td>229399.0</td>\n",
       "    </tr>\n",
       "    <tr>\n",
       "      <th>1</th>\n",
       "      <td>2.0</td>\n",
       "      <td>3.0</td>\n",
       "      <td>B</td>\n",
       "      <td>2077.0</td>\n",
       "      <td>6490.0</td>\n",
       "      <td>0.0</td>\n",
       "      <td>2.0</td>\n",
       "      <td>0.0</td>\n",
       "      <td>0.0</td>\n",
       "      <td>261.0</td>\n",
       "      <td>1926.0</td>\n",
       "      <td>26964.0</td>\n",
       "      <td>207035.0</td>\n",
       "    </tr>\n",
       "    <tr>\n",
       "      <th>2</th>\n",
       "      <td>3.0</td>\n",
       "      <td>3.0</td>\n",
       "      <td>B</td>\n",
       "      <td>2166.0</td>\n",
       "      <td>22073.0</td>\n",
       "      <td>1.0</td>\n",
       "      <td>2.0</td>\n",
       "      <td>0.0</td>\n",
       "      <td>0.0</td>\n",
       "      <td>266.0</td>\n",
       "      <td>2005.0</td>\n",
       "      <td>54722.0</td>\n",
       "      <td>363000.0</td>\n",
       "    </tr>\n",
       "    <tr>\n",
       "      <th>3</th>\n",
       "      <td>1.0</td>\n",
       "      <td>3.0</td>\n",
       "      <td>C</td>\n",
       "      <td>1244.0</td>\n",
       "      <td>6021.0</td>\n",
       "      <td>0.0</td>\n",
       "      <td>7.0</td>\n",
       "      <td>0.0</td>\n",
       "      <td>0.0</td>\n",
       "      <td>261.0</td>\n",
       "      <td>1950.0</td>\n",
       "      <td>13716.0</td>\n",
       "      <td>106418.0</td>\n",
       "    </tr>\n",
       "    <tr>\n",
       "      <th>4</th>\n",
       "      <td>2.0</td>\n",
       "      <td>3.0</td>\n",
       "      <td>C</td>\n",
       "      <td>1300.0</td>\n",
       "      <td>4917.0</td>\n",
       "      <td>1.0</td>\n",
       "      <td>2.0</td>\n",
       "      <td>0.0</td>\n",
       "      <td>0.0</td>\n",
       "      <td>261.0</td>\n",
       "      <td>1950.0</td>\n",
       "      <td>53636.0</td>\n",
       "      <td>76253.0</td>\n",
       "    </tr>\n",
       "  </tbody>\n",
       "</table>\n",
       "</div>"
      ],
      "text/plain": [
       "   bath  bed qualitytype    cfsf      lot  aircondition  heating  spa  pool  \\\n",
       "0   2.0  2.0           B  1090.0  40247.0           1.0      2.0  0.0   0.0   \n",
       "1   2.0  3.0           B  2077.0   6490.0           0.0      2.0  0.0   0.0   \n",
       "2   3.0  3.0           B  2166.0  22073.0           1.0      2.0  0.0   0.0   \n",
       "3   1.0  3.0           C  1244.0   6021.0           0.0      7.0  0.0   0.0   \n",
       "4   2.0  3.0           C  1300.0   4917.0           1.0      2.0  0.0   0.0   \n",
       "\n",
       "   landuse    year     city     price  \n",
       "0    266.0  2004.0  12447.0  229399.0  \n",
       "1    261.0  1926.0  26964.0  207035.0  \n",
       "2    266.0  2005.0  54722.0  363000.0  \n",
       "3    261.0  1950.0  13716.0  106418.0  \n",
       "4    261.0  1950.0  53636.0   76253.0  "
      ]
     },
     "execution_count": 52,
     "metadata": {},
     "output_type": "execute_result"
    }
   ],
   "source": [
    "df.head()"
   ]
  },
  {
   "cell_type": "markdown",
   "metadata": {},
   "source": [
    "## 도시별 평당 가격으로 20개의 그룹으로 묶음"
   ]
  },
  {
   "cell_type": "code",
   "execution_count": 53,
   "metadata": {},
   "outputs": [
    {
     "data": {
      "text/html": [
       "<div>\n",
       "<style>\n",
       "    .dataframe thead tr:only-child th {\n",
       "        text-align: right;\n",
       "    }\n",
       "\n",
       "    .dataframe thead th {\n",
       "        text-align: left;\n",
       "    }\n",
       "\n",
       "    .dataframe tbody tr th {\n",
       "        vertical-align: top;\n",
       "    }\n",
       "</style>\n",
       "<table border=\"1\" class=\"dataframe\">\n",
       "  <thead>\n",
       "    <tr style=\"text-align: right;\">\n",
       "      <th></th>\n",
       "      <th>bath</th>\n",
       "      <th>bed</th>\n",
       "      <th>qualitytype</th>\n",
       "      <th>cfsf</th>\n",
       "      <th>lot</th>\n",
       "      <th>aircondition</th>\n",
       "      <th>heating</th>\n",
       "      <th>spa</th>\n",
       "      <th>pool</th>\n",
       "      <th>landuse</th>\n",
       "      <th>year</th>\n",
       "      <th>city</th>\n",
       "      <th>price</th>\n",
       "      <th>price_cfsf</th>\n",
       "    </tr>\n",
       "  </thead>\n",
       "  <tbody>\n",
       "    <tr>\n",
       "      <th>0</th>\n",
       "      <td>2.0</td>\n",
       "      <td>2.0</td>\n",
       "      <td>B</td>\n",
       "      <td>1090.0</td>\n",
       "      <td>40247.0</td>\n",
       "      <td>1.0</td>\n",
       "      <td>2.0</td>\n",
       "      <td>0.0</td>\n",
       "      <td>0.0</td>\n",
       "      <td>266.0</td>\n",
       "      <td>2004.0</td>\n",
       "      <td>12447.0</td>\n",
       "      <td>229399.0</td>\n",
       "      <td>210.457798</td>\n",
       "    </tr>\n",
       "    <tr>\n",
       "      <th>1</th>\n",
       "      <td>2.0</td>\n",
       "      <td>3.0</td>\n",
       "      <td>B</td>\n",
       "      <td>2077.0</td>\n",
       "      <td>6490.0</td>\n",
       "      <td>0.0</td>\n",
       "      <td>2.0</td>\n",
       "      <td>0.0</td>\n",
       "      <td>0.0</td>\n",
       "      <td>261.0</td>\n",
       "      <td>1926.0</td>\n",
       "      <td>26964.0</td>\n",
       "      <td>207035.0</td>\n",
       "      <td>99.679827</td>\n",
       "    </tr>\n",
       "    <tr>\n",
       "      <th>2</th>\n",
       "      <td>3.0</td>\n",
       "      <td>3.0</td>\n",
       "      <td>B</td>\n",
       "      <td>2166.0</td>\n",
       "      <td>22073.0</td>\n",
       "      <td>1.0</td>\n",
       "      <td>2.0</td>\n",
       "      <td>0.0</td>\n",
       "      <td>0.0</td>\n",
       "      <td>266.0</td>\n",
       "      <td>2005.0</td>\n",
       "      <td>54722.0</td>\n",
       "      <td>363000.0</td>\n",
       "      <td>167.590028</td>\n",
       "    </tr>\n",
       "    <tr>\n",
       "      <th>3</th>\n",
       "      <td>1.0</td>\n",
       "      <td>3.0</td>\n",
       "      <td>C</td>\n",
       "      <td>1244.0</td>\n",
       "      <td>6021.0</td>\n",
       "      <td>0.0</td>\n",
       "      <td>7.0</td>\n",
       "      <td>0.0</td>\n",
       "      <td>0.0</td>\n",
       "      <td>261.0</td>\n",
       "      <td>1950.0</td>\n",
       "      <td>13716.0</td>\n",
       "      <td>106418.0</td>\n",
       "      <td>85.545016</td>\n",
       "    </tr>\n",
       "    <tr>\n",
       "      <th>4</th>\n",
       "      <td>2.0</td>\n",
       "      <td>3.0</td>\n",
       "      <td>C</td>\n",
       "      <td>1300.0</td>\n",
       "      <td>4917.0</td>\n",
       "      <td>1.0</td>\n",
       "      <td>2.0</td>\n",
       "      <td>0.0</td>\n",
       "      <td>0.0</td>\n",
       "      <td>261.0</td>\n",
       "      <td>1950.0</td>\n",
       "      <td>53636.0</td>\n",
       "      <td>76253.0</td>\n",
       "      <td>58.656154</td>\n",
       "    </tr>\n",
       "  </tbody>\n",
       "</table>\n",
       "</div>"
      ],
      "text/plain": [
       "   bath  bed qualitytype    cfsf      lot  aircondition  heating  spa  pool  \\\n",
       "0   2.0  2.0           B  1090.0  40247.0           1.0      2.0  0.0   0.0   \n",
       "1   2.0  3.0           B  2077.0   6490.0           0.0      2.0  0.0   0.0   \n",
       "2   3.0  3.0           B  2166.0  22073.0           1.0      2.0  0.0   0.0   \n",
       "3   1.0  3.0           C  1244.0   6021.0           0.0      7.0  0.0   0.0   \n",
       "4   2.0  3.0           C  1300.0   4917.0           1.0      2.0  0.0   0.0   \n",
       "\n",
       "   landuse    year     city     price  price_cfsf  \n",
       "0    266.0  2004.0  12447.0  229399.0  210.457798  \n",
       "1    261.0  1926.0  26964.0  207035.0   99.679827  \n",
       "2    266.0  2005.0  54722.0  363000.0  167.590028  \n",
       "3    261.0  1950.0  13716.0  106418.0   85.545016  \n",
       "4    261.0  1950.0  53636.0   76253.0   58.656154  "
      ]
     },
     "execution_count": 53,
     "metadata": {},
     "output_type": "execute_result"
    }
   ],
   "source": [
    "df[\"price_cfsf\"] = df[\"price\"]/df[\"cfsf\"]\n",
    "df.head()"
   ]
  },
  {
   "cell_type": "code",
   "execution_count": 74,
   "metadata": {},
   "outputs": [],
   "source": [
    "aa = pd.DataFrame(df.groupby([\"city\"])[\"price_cfsf\"].mean())\n",
    "aa = aa.reset_index()"
   ]
  },
  {
   "cell_type": "code",
   "execution_count": 149,
   "metadata": {},
   "outputs": [],
   "source": [
    "# aa는 도시별로 그룹해서 평균 가격을 qcut으로 한거 \n",
    "# cats = pd.qcut(aa[\"price_cfsf\"], 20, labels=[\"1\", \"2\", \"3\", \"4\",\"5\",\"6\",\"7\",\"8\",\"9\",\"10\",\"11\",\"12\",\"13\",\"14\",\"15\",\"16\",\"17\",\"18\",\"19\",\"20\"])"
   ]
  },
  {
   "cell_type": "code",
   "execution_count": 76,
   "metadata": {
    "scrolled": false
   },
   "outputs": [
    {
     "data": {
      "text/html": [
       "<div>\n",
       "<style>\n",
       "    .dataframe thead tr:only-child th {\n",
       "        text-align: right;\n",
       "    }\n",
       "\n",
       "    .dataframe thead th {\n",
       "        text-align: left;\n",
       "    }\n",
       "\n",
       "    .dataframe tbody tr th {\n",
       "        vertical-align: top;\n",
       "    }\n",
       "</style>\n",
       "<table border=\"1\" class=\"dataframe\">\n",
       "  <thead>\n",
       "    <tr style=\"text-align: right;\">\n",
       "      <th></th>\n",
       "      <th>city</th>\n",
       "      <th>price_cfsf</th>\n",
       "      <th>price_cfsf</th>\n",
       "    </tr>\n",
       "  </thead>\n",
       "  <tbody>\n",
       "    <tr>\n",
       "      <th>0</th>\n",
       "      <td>3491.0</td>\n",
       "      <td>116.026132</td>\n",
       "      <td>20</td>\n",
       "    </tr>\n",
       "    <tr>\n",
       "      <th>1</th>\n",
       "      <td>4406.0</td>\n",
       "      <td>79.847758</td>\n",
       "      <td>10</td>\n",
       "    </tr>\n",
       "    <tr>\n",
       "      <th>2</th>\n",
       "      <td>5465.0</td>\n",
       "      <td>82.858624</td>\n",
       "      <td>11</td>\n",
       "    </tr>\n",
       "    <tr>\n",
       "      <th>3</th>\n",
       "      <td>5534.0</td>\n",
       "      <td>69.709098</td>\n",
       "      <td>4</td>\n",
       "    </tr>\n",
       "    <tr>\n",
       "      <th>4</th>\n",
       "      <td>6021.0</td>\n",
       "      <td>81.283484</td>\n",
       "      <td>10</td>\n",
       "    </tr>\n",
       "  </tbody>\n",
       "</table>\n",
       "</div>"
      ],
      "text/plain": [
       "     city  price_cfsf price_cfsf\n",
       "0  3491.0  116.026132         20\n",
       "1  4406.0   79.847758         10\n",
       "2  5465.0   82.858624         11\n",
       "3  5534.0   69.709098          4\n",
       "4  6021.0   81.283484         10"
      ]
     },
     "execution_count": 76,
     "metadata": {},
     "output_type": "execute_result"
    }
   ],
   "source": [
    "aa = pd.concat([aa, cats], axis=1)"
   ]
  },
  {
   "cell_type": "code",
   "execution_count": 77,
   "metadata": {
    "collapsed": true
   },
   "outputs": [],
   "source": [
    "aa.columns = [\"city\", \"price_cfs\", \"cat_price\"]\n",
    "temp = pd.merge(df, aa, on = \"city\")"
   ]
  },
  {
   "cell_type": "code",
   "execution_count": 88,
   "metadata": {},
   "outputs": [
    {
     "data": {
      "text/html": [
       "<div>\n",
       "<style>\n",
       "    .dataframe thead tr:only-child th {\n",
       "        text-align: right;\n",
       "    }\n",
       "\n",
       "    .dataframe thead th {\n",
       "        text-align: left;\n",
       "    }\n",
       "\n",
       "    .dataframe tbody tr th {\n",
       "        vertical-align: top;\n",
       "    }\n",
       "</style>\n",
       "<table border=\"1\" class=\"dataframe\">\n",
       "  <thead>\n",
       "    <tr style=\"text-align: right;\">\n",
       "      <th></th>\n",
       "      <th>bath</th>\n",
       "      <th>bed</th>\n",
       "      <th>qualitytype</th>\n",
       "      <th>cfsf</th>\n",
       "      <th>aircondition</th>\n",
       "      <th>heating</th>\n",
       "      <th>spa</th>\n",
       "      <th>pool</th>\n",
       "      <th>landuse</th>\n",
       "      <th>year</th>\n",
       "      <th>city</th>\n",
       "      <th>price</th>\n",
       "      <th>price_cfsf</th>\n",
       "      <th>cat_price</th>\n",
       "    </tr>\n",
       "  </thead>\n",
       "  <tbody>\n",
       "    <tr>\n",
       "      <th>0</th>\n",
       "      <td>2.0</td>\n",
       "      <td>2.0</td>\n",
       "      <td>B</td>\n",
       "      <td>1090.0</td>\n",
       "      <td>1.0</td>\n",
       "      <td>2.0</td>\n",
       "      <td>0.0</td>\n",
       "      <td>0.0</td>\n",
       "      <td>266.0</td>\n",
       "      <td>2004.0</td>\n",
       "      <td>12447.0</td>\n",
       "      <td>229399.0</td>\n",
       "      <td>210.457798</td>\n",
       "      <td>12</td>\n",
       "    </tr>\n",
       "    <tr>\n",
       "      <th>1</th>\n",
       "      <td>2.0</td>\n",
       "      <td>3.0</td>\n",
       "      <td>B</td>\n",
       "      <td>1766.0</td>\n",
       "      <td>0.0</td>\n",
       "      <td>2.0</td>\n",
       "      <td>0.0</td>\n",
       "      <td>1.0</td>\n",
       "      <td>261.0</td>\n",
       "      <td>1962.0</td>\n",
       "      <td>12447.0</td>\n",
       "      <td>118400.0</td>\n",
       "      <td>67.044168</td>\n",
       "      <td>12</td>\n",
       "    </tr>\n",
       "    <tr>\n",
       "      <th>2</th>\n",
       "      <td>3.0</td>\n",
       "      <td>5.0</td>\n",
       "      <td>A</td>\n",
       "      <td>3085.0</td>\n",
       "      <td>1.0</td>\n",
       "      <td>2.0</td>\n",
       "      <td>0.0</td>\n",
       "      <td>0.0</td>\n",
       "      <td>261.0</td>\n",
       "      <td>1995.0</td>\n",
       "      <td>12447.0</td>\n",
       "      <td>407992.0</td>\n",
       "      <td>132.250243</td>\n",
       "      <td>12</td>\n",
       "    </tr>\n",
       "    <tr>\n",
       "      <th>3</th>\n",
       "      <td>3.0</td>\n",
       "      <td>5.0</td>\n",
       "      <td>B</td>\n",
       "      <td>2401.0</td>\n",
       "      <td>1.0</td>\n",
       "      <td>2.0</td>\n",
       "      <td>0.0</td>\n",
       "      <td>1.0</td>\n",
       "      <td>261.0</td>\n",
       "      <td>1965.0</td>\n",
       "      <td>12447.0</td>\n",
       "      <td>159612.0</td>\n",
       "      <td>66.477301</td>\n",
       "      <td>12</td>\n",
       "    </tr>\n",
       "    <tr>\n",
       "      <th>4</th>\n",
       "      <td>3.0</td>\n",
       "      <td>4.0</td>\n",
       "      <td>B</td>\n",
       "      <td>2397.0</td>\n",
       "      <td>1.0</td>\n",
       "      <td>2.0</td>\n",
       "      <td>0.0</td>\n",
       "      <td>1.0</td>\n",
       "      <td>261.0</td>\n",
       "      <td>1984.0</td>\n",
       "      <td>12447.0</td>\n",
       "      <td>270282.0</td>\n",
       "      <td>112.758448</td>\n",
       "      <td>12</td>\n",
       "    </tr>\n",
       "  </tbody>\n",
       "</table>\n",
       "</div>"
      ],
      "text/plain": [
       "   bath  bed qualitytype    cfsf  aircondition  heating  spa  pool  landuse  \\\n",
       "0   2.0  2.0           B  1090.0           1.0      2.0  0.0   0.0    266.0   \n",
       "1   2.0  3.0           B  1766.0           0.0      2.0  0.0   1.0    261.0   \n",
       "2   3.0  5.0           A  3085.0           1.0      2.0  0.0   0.0    261.0   \n",
       "3   3.0  5.0           B  2401.0           1.0      2.0  0.0   1.0    261.0   \n",
       "4   3.0  4.0           B  2397.0           1.0      2.0  0.0   1.0    261.0   \n",
       "\n",
       "     year     city     price  price_cfsf cat_price  \n",
       "0  2004.0  12447.0  229399.0  210.457798        12  \n",
       "1  1962.0  12447.0  118400.0   67.044168        12  \n",
       "2  1995.0  12447.0  407992.0  132.250243        12  \n",
       "3  1965.0  12447.0  159612.0   66.477301        12  \n",
       "4  1984.0  12447.0  270282.0  112.758448        12  "
      ]
     },
     "execution_count": 88,
     "metadata": {},
     "output_type": "execute_result"
    }
   ],
   "source": [
    "temp.head()"
   ]
  },
  {
   "cell_type": "code",
   "execution_count": 89,
   "metadata": {
    "collapsed": true
   },
   "outputs": [],
   "source": [
    "del temp[\"price_cfsf\"]"
   ]
  },
  {
   "cell_type": "code",
   "execution_count": 97,
   "metadata": {
    "collapsed": true
   },
   "outputs": [],
   "source": [
    "del temp[\"city\"]"
   ]
  },
  {
   "cell_type": "markdown",
   "metadata": {},
   "source": [
    "## 종속변수 독립변수 상관관계 알아보기"
   ]
  },
  {
   "cell_type": "code",
   "execution_count": 135,
   "metadata": {},
   "outputs": [
    {
     "data": {
      "text/plain": [
       "<matplotlib.figure.Figure at 0x17a3d3ad0>"
      ]
     },
     "metadata": {},
     "output_type": "display_data"
    },
    {
     "data": {
      "image/png": "[encoded data removed]",
      "text/plain": [
       "<matplotlib.figure.Figure at 0x1ace34350>"
      ]
     },
     "metadata": {},
     "output_type": "display_data"
    }
   ],
   "source": [
    "plt.figure(figsize=(10,10), dpi=200)\n",
    "sns.jointplot(\"bath\", \"price\", data=temp, color=\"lightseagreen\")\n",
    "plt.show()"
   ]
  },
  {
   "cell_type": "code",
   "execution_count": 136,
   "metadata": {},
   "outputs": [
    {
     "data": {
      "text/plain": [
       "<matplotlib.figure.Figure at 0x19e6876d0>"
      ]
     },
     "metadata": {},
     "output_type": "display_data"
    },
    {
     "data": {
      "image/png": "[encoded data removed]",
      "text/plain": [
       "<matplotlib.figure.Figure at 0x17d23af10>"
      ]
     },
     "metadata": {},
     "output_type": "display_data"
    }
   ],
   "source": [
    "plt.figure(figsize=(10,10), dpi=200)\n",
    "sns.jointplot(\"bed\", \"price\", data=temp, color=\"lightpink\")\n",
    "plt.show()"
   ]
  },
  {
   "cell_type": "code",
   "execution_count": 138,
   "metadata": {},
   "outputs": [
    {
     "data": {
      "text/plain": [
       "<matplotlib.figure.Figure at 0x1ac49dcd0>"
      ]
     },
     "metadata": {},
     "output_type": "display_data"
    },
    {
     "data": {
      "image/png": "[encoded data removed]",
      "text/plain": [
       "<matplotlib.figure.Figure at 0x1991cd8d0>"
      ]
     },
     "metadata": {},
     "output_type": "display_data"
    }
   ],
   "source": [
    "plt.figure(figsize=(10,10), dpi=200)\n",
    "sns.jointplot(\"year\", \"price\", data=temp, color=\"lightblue\")\n",
    "plt.show()"
   ]
  },
  {
   "cell_type": "code",
   "execution_count": 137,
   "metadata": {},
   "outputs": [
    {
     "data": {
      "text/plain": [
       "<matplotlib.figure.Figure at 0x1819f32d0>"
      ]
     },
     "metadata": {},
     "output_type": "display_data"
    },
    {
     "data": {
      "image/png": "[encoded data removed]",
      "text/plain": [
       "<matplotlib.figure.Figure at 0x1820031d0>"
      ]
     },
     "metadata": {},
     "output_type": "display_data"
    }
   ],
   "source": [
    "plt.figure(figsize=(10,10), dpi=200)\n",
    "sns.jointplot(\"cfsf\", \"price\", data=temp, color=\"mistyrose\")\n",
    "plt.show()"
   ]
  },
  {
   "cell_type": "code",
   "execution_count": 139,
   "metadata": {},
   "outputs": [
    {
     "data": {
      "image/png": "[encoded data removed]",
      "text/plain": [
       "<matplotlib.figure.Figure at 0x17a16b1d0>"
      ]
     },
     "metadata": {},
     "output_type": "display_data"
    }
   ],
   "source": [
    "plt.figure(dpi=200)\n",
    "sns.boxplot(\"qualitytype\", \"price\", data=temp)\n",
    "plt.show()"
   ]
  },
  {
   "cell_type": "code",
   "execution_count": 140,
   "metadata": {},
   "outputs": [
    {
     "data": {
      "image/png": "[encoded data removed]",
      "text/plain": [
       "<matplotlib.figure.Figure at 0x1a51354d0>"
      ]
     },
     "metadata": {},
     "output_type": "display_data"
    }
   ],
   "source": [
    "plt.figure(dpi=200)\n",
    "sns.boxplot(\"aircondition\", \"price\", data=temp)\n",
    "plt.show()"
   ]
  },
  {
   "cell_type": "code",
   "execution_count": 141,
   "metadata": {},
   "outputs": [
    {
     "data": {
      "image/png": "[encoded data removed]",
      "text/plain": [
       "<matplotlib.figure.Figure at 0x1a4ea7bd0>"
      ]
     },
     "metadata": {},
     "output_type": "display_data"
    }
   ],
   "source": [
    "plt.figure(dpi=200)\n",
    "sns.boxplot(\"heating\", \"price\", data=temp)\n",
    "plt.show()"
   ]
  },
  {
   "cell_type": "code",
   "execution_count": 143,
   "metadata": {},
   "outputs": [
    {
     "data": {
      "image/png": "[encoded data removed]",
      "text/plain": [
       "<matplotlib.figure.Figure at 0x1b1439510>"
      ]
     },
     "metadata": {},
     "output_type": "display_data"
    }
   ],
   "source": [
    "plt.figure(dpi=200)\n",
    "sns.boxplot(\"pool\", \"price\", data=temp)\n",
    "plt.show()"
   ]
  },
  {
   "cell_type": "code",
   "execution_count": 144,
   "metadata": {},
   "outputs": [
    {
     "data": {
      "image/png": "[encoded data removed]",
      "text/plain": [
       "<matplotlib.figure.Figure at 0x1a511ecd0>"
      ]
     },
     "metadata": {},
     "output_type": "display_data"
    }
   ],
   "source": [
    "plt.figure(dpi=200)\n",
    "sns.boxplot(\"spa\", \"price\", data=temp)\n",
    "plt.show()"
   ]
  },
  {
   "cell_type": "code",
   "execution_count": 145,
   "metadata": {},
   "outputs": [
    {
     "data": {
      "image/png": "[encoded data removed]",
      "text/plain": [
       "<matplotlib.figure.Figure at 0x17a276f10>"
      ]
     },
     "metadata": {},
     "output_type": "display_data"
    }
   ],
   "source": [
    "plt.figure(dpi=200)\n",
    "sns.boxplot(\"landuse\", \"price\", data=temp)\n",
    "plt.show()"
   ]
  },
  {
   "cell_type": "code",
   "execution_count": 146,
   "metadata": {
    "scrolled": false
   },
   "outputs": [
    {
     "data": {
      "image/png": "[encoded data removed]",
      "text/plain": [
       "<matplotlib.figure.Figure at 0x199b701d0>"
      ]
     },
     "metadata": {},
     "output_type": "display_data"
    }
   ],
   "source": [
    "plt.figure(dpi=200)\n",
    "sns.boxplot(\"cat_price\", \"price\", data=temp)\n",
    "plt.show()"
   ]
  },
  {
   "cell_type": "code",
   "execution_count": 125,
   "metadata": {},
   "outputs": [],
   "source": [
    "temp[\"qualitytype\"] = temp[\"qualitytype\"].astype(str)\n",
    "temp[\"landuse\"] = temp[\"landuse\"].astype(str)"
   ]
  },
  {
   "cell_type": "code",
   "execution_count": 126,
   "metadata": {},
   "outputs": [
    {
     "data": {
      "image/png": "[encoded data removed]",
      "text/plain": [
       "<matplotlib.figure.Figure at 0x162e75810>"
      ]
     },
     "metadata": {},
     "output_type": "display_data"
    }
   ],
   "source": [
    "# string은 빠진다 \n",
    "def corrmatrix(df):\n",
    "    corrmat = df.corr()\n",
    "    plt.subplots(figsize=(11, 9))\n",
    "    cmap = sns.diverging_palette(220, 10, as_cmap=True)\n",
    "    sns.heatmap(corrmat, vmax=.8, square=True, cmap=cmap, annot=True)\n",
    "    \n",
    "corrmatrix(temp)"
   ]
  },
  {
   "cell_type": "code",
   "execution_count": 128,
   "metadata": {},
   "outputs": [
    {
     "data": {
      "text/html": [
       "<div>\n",
       "<style>\n",
       "    .dataframe thead tr:only-child th {\n",
       "        text-align: right;\n",
       "    }\n",
       "\n",
       "    .dataframe thead th {\n",
       "        text-align: left;\n",
       "    }\n",
       "\n",
       "    .dataframe tbody tr th {\n",
       "        vertical-align: top;\n",
       "    }\n",
       "</style>\n",
       "<table border=\"1\" class=\"dataframe\">\n",
       "  <thead>\n",
       "    <tr style=\"text-align: right;\">\n",
       "      <th></th>\n",
       "      <th>name</th>\n",
       "      <th>type</th>\n",
       "    </tr>\n",
       "  </thead>\n",
       "  <tbody>\n",
       "    <tr>\n",
       "      <th>0</th>\n",
       "      <td>bath</td>\n",
       "      <td>float64</td>\n",
       "    </tr>\n",
       "    <tr>\n",
       "      <th>1</th>\n",
       "      <td>bed</td>\n",
       "      <td>float64</td>\n",
       "    </tr>\n",
       "    <tr>\n",
       "      <th>2</th>\n",
       "      <td>qualitytype</td>\n",
       "      <td>object</td>\n",
       "    </tr>\n",
       "    <tr>\n",
       "      <th>3</th>\n",
       "      <td>cfsf</td>\n",
       "      <td>float64</td>\n",
       "    </tr>\n",
       "    <tr>\n",
       "      <th>4</th>\n",
       "      <td>aircondition</td>\n",
       "      <td>float64</td>\n",
       "    </tr>\n",
       "    <tr>\n",
       "      <th>5</th>\n",
       "      <td>heating</td>\n",
       "      <td>float64</td>\n",
       "    </tr>\n",
       "    <tr>\n",
       "      <th>6</th>\n",
       "      <td>spa</td>\n",
       "      <td>float64</td>\n",
       "    </tr>\n",
       "    <tr>\n",
       "      <th>7</th>\n",
       "      <td>pool</td>\n",
       "      <td>float64</td>\n",
       "    </tr>\n",
       "    <tr>\n",
       "      <th>8</th>\n",
       "      <td>landuse</td>\n",
       "      <td>object</td>\n",
       "    </tr>\n",
       "    <tr>\n",
       "      <th>9</th>\n",
       "      <td>year</td>\n",
       "      <td>float64</td>\n",
       "    </tr>\n",
       "    <tr>\n",
       "      <th>10</th>\n",
       "      <td>price</td>\n",
       "      <td>float64</td>\n",
       "    </tr>\n",
       "    <tr>\n",
       "      <th>11</th>\n",
       "      <td>cat_price</td>\n",
       "      <td>category</td>\n",
       "    </tr>\n",
       "  </tbody>\n",
       "</table>\n",
       "</div>"
      ],
      "text/plain": [
       "            name      type\n",
       "0           bath   float64\n",
       "1            bed   float64\n",
       "2    qualitytype    object\n",
       "3           cfsf   float64\n",
       "4   aircondition   float64\n",
       "5        heating   float64\n",
       "6            spa   float64\n",
       "7           pool   float64\n",
       "8        landuse    object\n",
       "9           year   float64\n",
       "10         price   float64\n",
       "11     cat_price  category"
      ]
     },
     "execution_count": 128,
     "metadata": {},
     "output_type": "execute_result"
    }
   ],
   "source": [
    "df_dtype = temp.dtypes.reset_index()\n",
    "df_dtype.columns = [\"name\", \"type\"]\n",
    "df_dtype"
   ]
  },
  {
   "cell_type": "code",
   "execution_count": 148,
   "metadata": {},
   "outputs": [
    {
     "data": {
      "text/html": [
       "<div>\n",
       "<style>\n",
       "    .dataframe thead tr:only-child th {\n",
       "        text-align: right;\n",
       "    }\n",
       "\n",
       "    .dataframe thead th {\n",
       "        text-align: left;\n",
       "    }\n",
       "\n",
       "    .dataframe tbody tr th {\n",
       "        vertical-align: top;\n",
       "    }\n",
       "</style>\n",
       "<table border=\"1\" class=\"dataframe\">\n",
       "  <thead>\n",
       "    <tr style=\"text-align: right;\">\n",
       "      <th></th>\n",
       "      <th>bath</th>\n",
       "      <th>bed</th>\n",
       "      <th>qualitytype</th>\n",
       "      <th>cfsf</th>\n",
       "      <th>aircondition</th>\n",
       "      <th>heating</th>\n",
       "      <th>spa</th>\n",
       "      <th>pool</th>\n",
       "      <th>landuse</th>\n",
       "      <th>year</th>\n",
       "      <th>cat_price</th>\n",
       "      <th>price</th>\n",
       "    </tr>\n",
       "  </thead>\n",
       "  <tbody>\n",
       "    <tr>\n",
       "      <th>0</th>\n",
       "      <td>2.0</td>\n",
       "      <td>2.0</td>\n",
       "      <td>B</td>\n",
       "      <td>1090.0</td>\n",
       "      <td>1.0</td>\n",
       "      <td>2.0</td>\n",
       "      <td>0.0</td>\n",
       "      <td>0.0</td>\n",
       "      <td>266.0</td>\n",
       "      <td>2004.0</td>\n",
       "      <td>12</td>\n",
       "      <td>229399.0</td>\n",
       "    </tr>\n",
       "    <tr>\n",
       "      <th>1</th>\n",
       "      <td>2.0</td>\n",
       "      <td>3.0</td>\n",
       "      <td>B</td>\n",
       "      <td>1766.0</td>\n",
       "      <td>0.0</td>\n",
       "      <td>2.0</td>\n",
       "      <td>0.0</td>\n",
       "      <td>1.0</td>\n",
       "      <td>261.0</td>\n",
       "      <td>1962.0</td>\n",
       "      <td>12</td>\n",
       "      <td>118400.0</td>\n",
       "    </tr>\n",
       "    <tr>\n",
       "      <th>2</th>\n",
       "      <td>3.0</td>\n",
       "      <td>5.0</td>\n",
       "      <td>A</td>\n",
       "      <td>3085.0</td>\n",
       "      <td>1.0</td>\n",
       "      <td>2.0</td>\n",
       "      <td>0.0</td>\n",
       "      <td>0.0</td>\n",
       "      <td>261.0</td>\n",
       "      <td>1995.0</td>\n",
       "      <td>12</td>\n",
       "      <td>407992.0</td>\n",
       "    </tr>\n",
       "    <tr>\n",
       "      <th>3</th>\n",
       "      <td>3.0</td>\n",
       "      <td>5.0</td>\n",
       "      <td>B</td>\n",
       "      <td>2401.0</td>\n",
       "      <td>1.0</td>\n",
       "      <td>2.0</td>\n",
       "      <td>0.0</td>\n",
       "      <td>1.0</td>\n",
       "      <td>261.0</td>\n",
       "      <td>1965.0</td>\n",
       "      <td>12</td>\n",
       "      <td>159612.0</td>\n",
       "    </tr>\n",
       "    <tr>\n",
       "      <th>4</th>\n",
       "      <td>3.0</td>\n",
       "      <td>4.0</td>\n",
       "      <td>B</td>\n",
       "      <td>2397.0</td>\n",
       "      <td>1.0</td>\n",
       "      <td>2.0</td>\n",
       "      <td>0.0</td>\n",
       "      <td>1.0</td>\n",
       "      <td>261.0</td>\n",
       "      <td>1984.0</td>\n",
       "      <td>12</td>\n",
       "      <td>270282.0</td>\n",
       "    </tr>\n",
       "  </tbody>\n",
       "</table>\n",
       "</div>"
      ],
      "text/plain": [
       "   bath  bed qualitytype    cfsf  aircondition  heating  spa  pool landuse  \\\n",
       "0   2.0  2.0           B  1090.0           1.0      2.0  0.0   0.0   266.0   \n",
       "1   2.0  3.0           B  1766.0           0.0      2.0  0.0   1.0   261.0   \n",
       "2   3.0  5.0           A  3085.0           1.0      2.0  0.0   0.0   261.0   \n",
       "3   3.0  5.0           B  2401.0           1.0      2.0  0.0   1.0   261.0   \n",
       "4   3.0  4.0           B  2397.0           1.0      2.0  0.0   1.0   261.0   \n",
       "\n",
       "     year cat_price     price  \n",
       "0  2004.0        12  229399.0  \n",
       "1  1962.0        12  118400.0  \n",
       "2  1995.0        12  407992.0  \n",
       "3  1965.0        12  159612.0  \n",
       "4  1984.0        12  270282.0  "
      ]
     },
     "execution_count": 148,
     "metadata": {},
     "output_type": "execute_result"
    }
   ],
   "source": [
    "temp2 = temp.iloc[:, [0,1,2,3,4,5,6,7,8,9,11,10]]\n",
    "temp2.head()"
   ]
  },
  {
   "cell_type": "markdown",
   "metadata": {},
   "source": [
    "## boxplot 기준으로 이상치를 날려보겠슴니다 "
   ]
  },
  {
   "cell_type": "code",
   "execution_count": 195,
   "metadata": {},
   "outputs": [
    {
     "data": {
      "image/png": "[encoded data removed]",
      "text/plain": [
       "<matplotlib.figure.Figure at 0x1ac49b350>"
      ]
     },
     "metadata": {},
     "output_type": "display_data"
    }
   ],
   "source": [
    "plt.figure(figsize=(5, 3), dpi=150)\n",
    "sns.boxplot(temp2[\"price\"], color=\"deepskyblue\", linewidth=1, width=0.3, saturation=0.8)\n",
    "plt.show()"
   ]
  },
  {
   "cell_type": "code",
   "execution_count": 205,
   "metadata": {},
   "outputs": [
    {
     "data": {
      "image/png": "[encoded data removed]",
      "text/plain": [
       "<matplotlib.figure.Figure at 0x1b1931750>"
      ]
     },
     "metadata": {},
     "output_type": "display_data"
    }
   ],
   "source": [
    "plt.figure(figsize=(5, 3), dpi=150)\n",
    "sns.boxplot(temp2[\"cfsf\"], color=\"deepskyblue\", linewidth=1, width=0.3, saturation=0.8)\n",
    "plt.show()"
   ]
  },
  {
   "cell_type": "code",
   "execution_count": 172,
   "metadata": {},
   "outputs": [],
   "source": [
    "def boxout(data, feature):\n",
    "    q1 = np.percentile(data[feature], 25)\n",
    "    q3 = np.percentile(data[feature], 75)\n",
    "    iqr = q3-q1\n",
    "    low = q1 - 1.5 * iqr\n",
    "    up = q3 + 1.5 * iqr\n",
    "    \n",
    "    data = data[(data[feature] > low) & (data[feature] < up)]\n",
    "    return data"
   ]
  },
  {
   "cell_type": "code",
   "execution_count": 209,
   "metadata": {},
   "outputs": [],
   "source": [
    "temp3 = boxout(temp3, \"price\")\n",
    "temp3 = boxout(temp3, \"cfsf\")"
   ]
  },
  {
   "cell_type": "code",
   "execution_count": 219,
   "metadata": {},
   "outputs": [
    {
     "data": {
      "text/html": [
       "<div>\n",
       "<style>\n",
       "    .dataframe thead tr:only-child th {\n",
       "        text-align: right;\n",
       "    }\n",
       "\n",
       "    .dataframe thead th {\n",
       "        text-align: left;\n",
       "    }\n",
       "\n",
       "    .dataframe tbody tr th {\n",
       "        vertical-align: top;\n",
       "    }\n",
       "</style>\n",
       "<table border=\"1\" class=\"dataframe\">\n",
       "  <thead>\n",
       "    <tr style=\"text-align: right;\">\n",
       "      <th></th>\n",
       "      <th>bath</th>\n",
       "      <th>bed</th>\n",
       "      <th>qualitytype</th>\n",
       "      <th>cfsf</th>\n",
       "      <th>aircondition</th>\n",
       "      <th>heating</th>\n",
       "      <th>spa</th>\n",
       "      <th>pool</th>\n",
       "      <th>landuse</th>\n",
       "      <th>year</th>\n",
       "      <th>cat_price</th>\n",
       "      <th>price</th>\n",
       "    </tr>\n",
       "  </thead>\n",
       "  <tbody>\n",
       "    <tr>\n",
       "      <th>0</th>\n",
       "      <td>2.0</td>\n",
       "      <td>2.0</td>\n",
       "      <td>B</td>\n",
       "      <td>1090.0</td>\n",
       "      <td>1.0</td>\n",
       "      <td>2.0</td>\n",
       "      <td>0.0</td>\n",
       "      <td>0.0</td>\n",
       "      <td>266.0</td>\n",
       "      <td>2004.0</td>\n",
       "      <td>12</td>\n",
       "      <td>229399.0</td>\n",
       "    </tr>\n",
       "    <tr>\n",
       "      <th>1</th>\n",
       "      <td>2.0</td>\n",
       "      <td>3.0</td>\n",
       "      <td>B</td>\n",
       "      <td>1766.0</td>\n",
       "      <td>0.0</td>\n",
       "      <td>2.0</td>\n",
       "      <td>0.0</td>\n",
       "      <td>1.0</td>\n",
       "      <td>261.0</td>\n",
       "      <td>1962.0</td>\n",
       "      <td>12</td>\n",
       "      <td>118400.0</td>\n",
       "    </tr>\n",
       "    <tr>\n",
       "      <th>3</th>\n",
       "      <td>3.0</td>\n",
       "      <td>5.0</td>\n",
       "      <td>B</td>\n",
       "      <td>2401.0</td>\n",
       "      <td>1.0</td>\n",
       "      <td>2.0</td>\n",
       "      <td>0.0</td>\n",
       "      <td>1.0</td>\n",
       "      <td>261.0</td>\n",
       "      <td>1965.0</td>\n",
       "      <td>12</td>\n",
       "      <td>159612.0</td>\n",
       "    </tr>\n",
       "    <tr>\n",
       "      <th>4</th>\n",
       "      <td>3.0</td>\n",
       "      <td>4.0</td>\n",
       "      <td>B</td>\n",
       "      <td>2397.0</td>\n",
       "      <td>1.0</td>\n",
       "      <td>2.0</td>\n",
       "      <td>0.0</td>\n",
       "      <td>1.0</td>\n",
       "      <td>261.0</td>\n",
       "      <td>1984.0</td>\n",
       "      <td>12</td>\n",
       "      <td>270282.0</td>\n",
       "    </tr>\n",
       "    <tr>\n",
       "      <th>5</th>\n",
       "      <td>3.0</td>\n",
       "      <td>4.0</td>\n",
       "      <td>B</td>\n",
       "      <td>2574.0</td>\n",
       "      <td>1.0</td>\n",
       "      <td>2.0</td>\n",
       "      <td>0.0</td>\n",
       "      <td>1.0</td>\n",
       "      <td>261.0</td>\n",
       "      <td>1981.0</td>\n",
       "      <td>12</td>\n",
       "      <td>236017.0</td>\n",
       "    </tr>\n",
       "  </tbody>\n",
       "</table>\n",
       "</div>"
      ],
      "text/plain": [
       "   bath  bed qualitytype    cfsf  aircondition  heating  spa  pool landuse  \\\n",
       "0   2.0  2.0           B  1090.0           1.0      2.0  0.0   0.0   266.0   \n",
       "1   2.0  3.0           B  1766.0           0.0      2.0  0.0   1.0   261.0   \n",
       "3   3.0  5.0           B  2401.0           1.0      2.0  0.0   1.0   261.0   \n",
       "4   3.0  4.0           B  2397.0           1.0      2.0  0.0   1.0   261.0   \n",
       "5   3.0  4.0           B  2574.0           1.0      2.0  0.0   1.0   261.0   \n",
       "\n",
       "     year cat_price     price  \n",
       "0  2004.0        12  229399.0  \n",
       "1  1962.0        12  118400.0  \n",
       "3  1965.0        12  159612.0  \n",
       "4  1984.0        12  270282.0  \n",
       "5  1981.0        12  236017.0  "
      ]
     },
     "execution_count": 219,
     "metadata": {},
     "output_type": "execute_result"
    }
   ],
   "source": [
    "temp3.head()"
   ]
  },
  {
   "cell_type": "markdown",
   "metadata": {},
   "source": [
    "## 그냥 회귀분석"
   ]
  },
  {
   "cell_type": "code",
   "execution_count": 224,
   "metadata": {},
   "outputs": [
    {
     "name": "stdout",
     "output_type": "stream",
     "text": [
      "                            OLS Regression Results                            \n",
      "==============================================================================\n",
      "Dep. Variable:                  price   R-squared:                       0.447\n",
      "Model:                            OLS   Adj. R-squared:                  0.447\n",
      "Method:                 Least Squares   F-statistic:                 3.358e+04\n",
      "Date:                Sat, 08 Jul 2017   Prob (F-statistic):               0.00\n",
      "Time:                        17:29:00   Log-Likelihood:            -1.6610e+07\n",
      "No. Observations:             1371009   AIC:                         3.322e+07\n",
      "Df Residuals:                 1370975   BIC:                         3.322e+07\n",
      "Df Model:                          33                                         \n",
      "Covariance Type:            nonrobust                                         \n",
      "==========================================================================================\n",
      "                             coef    std err          t      P>|t|      [0.025      0.975]\n",
      "------------------------------------------------------------------------------------------\n",
      "Intercept              -6.791e+05   5375.473   -126.340      0.000    -6.9e+05   -6.69e+05\n",
      "C(qualitytype)[T.B]    -4.507e+04    356.233   -126.513      0.000   -4.58e+04   -4.44e+04\n",
      "C(qualitytype)[T.C]    -6.025e+04    367.807   -163.817      0.000    -6.1e+04   -5.95e+04\n",
      "C(qualitytype)[T.D]    -1.636e+04    948.850    -17.238      0.000   -1.82e+04   -1.45e+04\n",
      "C(qualitytype)[T.E]    -3.278e+04   5967.857     -5.492      0.000   -4.45e+04   -2.11e+04\n",
      "C(aircondition)[T.1.0]  1.237e+04    105.779    116.945      0.000    1.22e+04    1.26e+04\n",
      "C(heating)[T.2.0]       2191.3513    354.688      6.178      0.000    1496.176    2886.527\n",
      "C(heating)[T.7.0]       5456.2163    345.634     15.786      0.000    4778.785    6133.648\n",
      "C(heating)[T.20.0]      2.668e+04   1759.412     15.167      0.000    2.32e+04    3.01e+04\n",
      "C(spa)[T.1.0]           1.618e+04    445.788     36.297      0.000    1.53e+04    1.71e+04\n",
      "C(pool)[T.1.0]          8372.5421    104.051     80.465      0.000    8168.605    8576.479\n",
      "C(cat_price)[T.2]       8735.3424    443.326     19.704      0.000    7866.439    9604.246\n",
      "C(cat_price)[T.3]       8412.3810    325.271     25.863      0.000    7774.861    9049.901\n",
      "C(cat_price)[T.4]       1245.3003    296.630      4.198      0.000     663.916    1826.684\n",
      "C(cat_price)[T.5]       1.252e+04    315.795     39.638      0.000    1.19e+04    1.31e+04\n",
      "C(cat_price)[T.6]       1.494e+04    321.661     46.458      0.000    1.43e+04    1.56e+04\n",
      "C(cat_price)[T.7]       6348.4627    300.217     21.146      0.000    5760.048    6936.877\n",
      "C(cat_price)[T.8]       1.339e+04    306.767     43.638      0.000    1.28e+04     1.4e+04\n",
      "C(cat_price)[T.9]        1.68e+04    288.688     58.203      0.000    1.62e+04    1.74e+04\n",
      "C(cat_price)[T.10]      1.873e+04    296.194     63.241      0.000    1.82e+04    1.93e+04\n",
      "C(cat_price)[T.11]      1.898e+04    297.344     63.827      0.000    1.84e+04    1.96e+04\n",
      "C(cat_price)[T.12]       1.87e+04    256.807     72.827      0.000    1.82e+04    1.92e+04\n",
      "C(cat_price)[T.13]      2.073e+04    312.941     66.255      0.000    2.01e+04    2.13e+04\n",
      "C(cat_price)[T.14]      2.254e+04    346.282     65.081      0.000    2.19e+04    2.32e+04\n",
      "C(cat_price)[T.15]      2.264e+04    427.913     52.902      0.000    2.18e+04    2.35e+04\n",
      "C(cat_price)[T.16]      2.494e+04    331.057     75.327      0.000    2.43e+04    2.56e+04\n",
      "C(cat_price)[T.17]      2.443e+04    353.044     69.191      0.000    2.37e+04    2.51e+04\n",
      "C(cat_price)[T.18]       3.55e+04    372.520     95.309      0.000    3.48e+04    3.62e+04\n",
      "C(cat_price)[T.19]      3.225e+04    319.772    100.852      0.000    3.16e+04    3.29e+04\n",
      "C(cat_price)[T.20]      3.497e+04    438.655     79.732      0.000    3.41e+04    3.58e+04\n",
      "bath                    1.013e+04     83.240    121.733      0.000    9969.985    1.03e+04\n",
      "bed                    -3337.1815     62.230    -53.627      0.000   -3459.150   -3215.213\n",
      "cfsf                      51.3356      0.137    374.792      0.000      51.067      51.604\n",
      "year                     377.1672      2.739    137.710      0.000     371.799     382.535\n",
      "==============================================================================\n",
      "Omnibus:                    21966.403   Durbin-Watson:                   1.889\n",
      "Prob(Omnibus):                  0.000   Jarque-Bera (JB):            24223.222\n",
      "Skew:                           0.281   Prob(JB):                         0.00\n",
      "Kurtosis:                       3.329   Cond. No.                     3.91e+05\n",
      "==============================================================================\n",
      "\n",
      "Warnings:\n",
      "[1] Standard Errors assume that the covariance matrix of the errors is correctly specified.\n",
      "[2] The condition number is large, 3.91e+05. This might indicate that there are\n",
      "strong multicollinearity or other numerical problems.\n"
     ]
    }
   ],
   "source": [
    "model = sm.OLS.from_formula(\"price ~ bath + bed + C(qualitytype) + cfsf + C(aircondition) + C(heating) + C(spa) \\\n",
    "                            + C(pool) + year + C(cat_price)\", data=temp3).fit()\n",
    "print(model.summary())"
   ]
  },
  {
   "cell_type": "code",
   "execution_count": 225,
   "metadata": {
    "collapsed": true
   },
   "outputs": [],
   "source": [
    "def predict(model, data):\n",
    "    pred = model.fittedvalues\n",
    "    prediction = pd.DataFrame((pred))\n",
    "    prediction[\"price\"] = data[\"price\"]\n",
    "    prediction.columns = [\"predict\", \"price\"]\n",
    "    return prediction"
   ]
  },
  {
   "cell_type": "code",
   "execution_count": 226,
   "metadata": {
    "scrolled": false
   },
   "outputs": [
    {
     "data": {
      "text/html": [
       "<div>\n",
       "<style>\n",
       "    .dataframe thead tr:only-child th {\n",
       "        text-align: right;\n",
       "    }\n",
       "\n",
       "    .dataframe thead th {\n",
       "        text-align: left;\n",
       "    }\n",
       "\n",
       "    .dataframe tbody tr th {\n",
       "        vertical-align: top;\n",
       "    }\n",
       "</style>\n",
       "<table border=\"1\" class=\"dataframe\">\n",
       "  <thead>\n",
       "    <tr style=\"text-align: right;\">\n",
       "      <th></th>\n",
       "      <th>predict</th>\n",
       "      <th>price</th>\n",
       "    </tr>\n",
       "  </thead>\n",
       "  <tbody>\n",
       "    <tr>\n",
       "      <th>0</th>\n",
       "      <td>134451.949951</td>\n",
       "      <td>229399.0</td>\n",
       "    </tr>\n",
       "    <tr>\n",
       "      <th>1</th>\n",
       "      <td>145978.845920</td>\n",
       "      <td>118400.0</td>\n",
       "    </tr>\n",
       "    <tr>\n",
       "      <th>3</th>\n",
       "      <td>195537.571442</td>\n",
       "      <td>159612.0</td>\n",
       "    </tr>\n",
       "    <tr>\n",
       "      <th>4</th>\n",
       "      <td>205835.587244</td>\n",
       "      <td>270282.0</td>\n",
       "    </tr>\n",
       "    <tr>\n",
       "      <th>5</th>\n",
       "      <td>213790.492137</td>\n",
       "      <td>236017.0</td>\n",
       "    </tr>\n",
       "    <tr>\n",
       "      <th>6</th>\n",
       "      <td>189839.682054</td>\n",
       "      <td>205440.0</td>\n",
       "    </tr>\n",
       "    <tr>\n",
       "      <th>7</th>\n",
       "      <td>219011.026346</td>\n",
       "      <td>254366.0</td>\n",
       "    </tr>\n",
       "    <tr>\n",
       "      <th>8</th>\n",
       "      <td>131748.785228</td>\n",
       "      <td>130324.0</td>\n",
       "    </tr>\n",
       "    <tr>\n",
       "      <th>9</th>\n",
       "      <td>107586.288860</td>\n",
       "      <td>102315.0</td>\n",
       "    </tr>\n",
       "    <tr>\n",
       "      <th>10</th>\n",
       "      <td>107586.288860</td>\n",
       "      <td>176998.0</td>\n",
       "    </tr>\n",
       "    <tr>\n",
       "      <th>11</th>\n",
       "      <td>137160.265269</td>\n",
       "      <td>106000.0</td>\n",
       "    </tr>\n",
       "    <tr>\n",
       "      <th>12</th>\n",
       "      <td>131523.427971</td>\n",
       "      <td>114117.0</td>\n",
       "    </tr>\n",
       "    <tr>\n",
       "      <th>13</th>\n",
       "      <td>109884.562122</td>\n",
       "      <td>125147.0</td>\n",
       "    </tr>\n",
       "    <tr>\n",
       "      <th>14</th>\n",
       "      <td>119193.439670</td>\n",
       "      <td>131100.0</td>\n",
       "    </tr>\n",
       "    <tr>\n",
       "      <th>15</th>\n",
       "      <td>99213.746733</td>\n",
       "      <td>128346.0</td>\n",
       "    </tr>\n",
       "    <tr>\n",
       "      <th>16</th>\n",
       "      <td>171160.231533</td>\n",
       "      <td>194208.0</td>\n",
       "    </tr>\n",
       "    <tr>\n",
       "      <th>17</th>\n",
       "      <td>110851.234685</td>\n",
       "      <td>76111.0</td>\n",
       "    </tr>\n",
       "    <tr>\n",
       "      <th>18</th>\n",
       "      <td>123975.897119</td>\n",
       "      <td>73143.0</td>\n",
       "    </tr>\n",
       "    <tr>\n",
       "      <th>19</th>\n",
       "      <td>146039.488362</td>\n",
       "      <td>131300.0</td>\n",
       "    </tr>\n",
       "    <tr>\n",
       "      <th>20</th>\n",
       "      <td>110084.986876</td>\n",
       "      <td>53134.0</td>\n",
       "    </tr>\n",
       "    <tr>\n",
       "      <th>21</th>\n",
       "      <td>109949.894270</td>\n",
       "      <td>60143.0</td>\n",
       "    </tr>\n",
       "    <tr>\n",
       "      <th>22</th>\n",
       "      <td>149717.140998</td>\n",
       "      <td>194455.0</td>\n",
       "    </tr>\n",
       "    <tr>\n",
       "      <th>23</th>\n",
       "      <td>147969.430947</td>\n",
       "      <td>162230.0</td>\n",
       "    </tr>\n",
       "    <tr>\n",
       "      <th>24</th>\n",
       "      <td>192732.295123</td>\n",
       "      <td>82867.0</td>\n",
       "    </tr>\n",
       "    <tr>\n",
       "      <th>25</th>\n",
       "      <td>189495.433738</td>\n",
       "      <td>285045.0</td>\n",
       "    </tr>\n",
       "    <tr>\n",
       "      <th>26</th>\n",
       "      <td>203054.992237</td>\n",
       "      <td>195295.0</td>\n",
       "    </tr>\n",
       "    <tr>\n",
       "      <th>28</th>\n",
       "      <td>194204.363859</td>\n",
       "      <td>152541.0</td>\n",
       "    </tr>\n",
       "    <tr>\n",
       "      <th>29</th>\n",
       "      <td>167510.488163</td>\n",
       "      <td>211337.0</td>\n",
       "    </tr>\n",
       "    <tr>\n",
       "      <th>30</th>\n",
       "      <td>195885.222885</td>\n",
       "      <td>203672.0</td>\n",
       "    </tr>\n",
       "    <tr>\n",
       "      <th>31</th>\n",
       "      <td>186893.981143</td>\n",
       "      <td>170099.0</td>\n",
       "    </tr>\n",
       "  </tbody>\n",
       "</table>\n",
       "</div>"
      ],
      "text/plain": [
       "          predict     price\n",
       "0   134451.949951  229399.0\n",
       "1   145978.845920  118400.0\n",
       "3   195537.571442  159612.0\n",
       "4   205835.587244  270282.0\n",
       "5   213790.492137  236017.0\n",
       "6   189839.682054  205440.0\n",
       "7   219011.026346  254366.0\n",
       "8   131748.785228  130324.0\n",
       "9   107586.288860  102315.0\n",
       "10  107586.288860  176998.0\n",
       "11  137160.265269  106000.0\n",
       "12  131523.427971  114117.0\n",
       "13  109884.562122  125147.0\n",
       "14  119193.439670  131100.0\n",
       "15   99213.746733  128346.0\n",
       "16  171160.231533  194208.0\n",
       "17  110851.234685   76111.0\n",
       "18  123975.897119   73143.0\n",
       "19  146039.488362  131300.0\n",
       "20  110084.986876   53134.0\n",
       "21  109949.894270   60143.0\n",
       "22  149717.140998  194455.0\n",
       "23  147969.430947  162230.0\n",
       "24  192732.295123   82867.0\n",
       "25  189495.433738  285045.0\n",
       "26  203054.992237  195295.0\n",
       "28  194204.363859  152541.0\n",
       "29  167510.488163  211337.0\n",
       "30  195885.222885  203672.0\n",
       "31  186893.981143  170099.0"
      ]
     },
     "execution_count": 226,
     "metadata": {},
     "output_type": "execute_result"
    }
   ],
   "source": [
    "pre = predict(model, temp3)\n",
    "pre.head(30)"
   ]
  },
  {
   "cell_type": "markdown",
   "metadata": {},
   "source": [
    "## lasso 정규화 회귀"
   ]
  },
  {
   "cell_type": "code",
   "execution_count": 227,
   "metadata": {},
   "outputs": [
    {
     "data": {
      "text/html": [
       "<div>\n",
       "<style>\n",
       "    .dataframe thead tr:only-child th {\n",
       "        text-align: right;\n",
       "    }\n",
       "\n",
       "    .dataframe thead th {\n",
       "        text-align: left;\n",
       "    }\n",
       "\n",
       "    .dataframe tbody tr th {\n",
       "        vertical-align: top;\n",
       "    }\n",
       "</style>\n",
       "<table border=\"1\" class=\"dataframe\">\n",
       "  <thead>\n",
       "    <tr style=\"text-align: right;\">\n",
       "      <th></th>\n",
       "      <th>bath</th>\n",
       "      <th>bed</th>\n",
       "      <th>qualitytype</th>\n",
       "      <th>cfsf</th>\n",
       "      <th>aircondition</th>\n",
       "      <th>heating</th>\n",
       "      <th>spa</th>\n",
       "      <th>pool</th>\n",
       "      <th>landuse</th>\n",
       "      <th>year</th>\n",
       "      <th>cat_price</th>\n",
       "      <th>price</th>\n",
       "    </tr>\n",
       "  </thead>\n",
       "  <tbody>\n",
       "    <tr>\n",
       "      <th>0</th>\n",
       "      <td>2.0</td>\n",
       "      <td>2.0</td>\n",
       "      <td>B</td>\n",
       "      <td>1090.0</td>\n",
       "      <td>1.0</td>\n",
       "      <td>2.0</td>\n",
       "      <td>0.0</td>\n",
       "      <td>0.0</td>\n",
       "      <td>266.0</td>\n",
       "      <td>2004.0</td>\n",
       "      <td>12</td>\n",
       "      <td>229399.0</td>\n",
       "    </tr>\n",
       "    <tr>\n",
       "      <th>1</th>\n",
       "      <td>2.0</td>\n",
       "      <td>3.0</td>\n",
       "      <td>B</td>\n",
       "      <td>1766.0</td>\n",
       "      <td>0.0</td>\n",
       "      <td>2.0</td>\n",
       "      <td>0.0</td>\n",
       "      <td>1.0</td>\n",
       "      <td>261.0</td>\n",
       "      <td>1962.0</td>\n",
       "      <td>12</td>\n",
       "      <td>118400.0</td>\n",
       "    </tr>\n",
       "    <tr>\n",
       "      <th>3</th>\n",
       "      <td>3.0</td>\n",
       "      <td>5.0</td>\n",
       "      <td>B</td>\n",
       "      <td>2401.0</td>\n",
       "      <td>1.0</td>\n",
       "      <td>2.0</td>\n",
       "      <td>0.0</td>\n",
       "      <td>1.0</td>\n",
       "      <td>261.0</td>\n",
       "      <td>1965.0</td>\n",
       "      <td>12</td>\n",
       "      <td>159612.0</td>\n",
       "    </tr>\n",
       "    <tr>\n",
       "      <th>4</th>\n",
       "      <td>3.0</td>\n",
       "      <td>4.0</td>\n",
       "      <td>B</td>\n",
       "      <td>2397.0</td>\n",
       "      <td>1.0</td>\n",
       "      <td>2.0</td>\n",
       "      <td>0.0</td>\n",
       "      <td>1.0</td>\n",
       "      <td>261.0</td>\n",
       "      <td>1984.0</td>\n",
       "      <td>12</td>\n",
       "      <td>270282.0</td>\n",
       "    </tr>\n",
       "    <tr>\n",
       "      <th>5</th>\n",
       "      <td>3.0</td>\n",
       "      <td>4.0</td>\n",
       "      <td>B</td>\n",
       "      <td>2574.0</td>\n",
       "      <td>1.0</td>\n",
       "      <td>2.0</td>\n",
       "      <td>0.0</td>\n",
       "      <td>1.0</td>\n",
       "      <td>261.0</td>\n",
       "      <td>1981.0</td>\n",
       "      <td>12</td>\n",
       "      <td>236017.0</td>\n",
       "    </tr>\n",
       "  </tbody>\n",
       "</table>\n",
       "</div>"
      ],
      "text/plain": [
       "   bath  bed qualitytype    cfsf  aircondition  heating  spa  pool landuse  \\\n",
       "0   2.0  2.0           B  1090.0           1.0      2.0  0.0   0.0   266.0   \n",
       "1   2.0  3.0           B  1766.0           0.0      2.0  0.0   1.0   261.0   \n",
       "3   3.0  5.0           B  2401.0           1.0      2.0  0.0   1.0   261.0   \n",
       "4   3.0  4.0           B  2397.0           1.0      2.0  0.0   1.0   261.0   \n",
       "5   3.0  4.0           B  2574.0           1.0      2.0  0.0   1.0   261.0   \n",
       "\n",
       "     year cat_price     price  \n",
       "0  2004.0        12  229399.0  \n",
       "1  1962.0        12  118400.0  \n",
       "3  1965.0        12  159612.0  \n",
       "4  1984.0        12  270282.0  \n",
       "5  1981.0        12  236017.0  "
      ]
     },
     "execution_count": 227,
     "metadata": {},
     "output_type": "execute_result"
    }
   ],
   "source": [
    "temp3.head()"
   ]
  },
  {
   "cell_type": "code",
   "execution_count": 231,
   "metadata": {},
   "outputs": [],
   "source": [
    "landuse_dummy = pd.get_dummies(temp3[\"landuse\"])\n",
    "city_dummy = pd.get_dummies(temp3[\"cat_price\"])\n",
    "quality_dummy = pd.get_dummies(temp3[\"qualitytype\"])\n",
    "heating_dummy = pd.get_dummies(temp3[\"heating\"])\n",
    "\n",
    "dfy2 = np.log(temp3[\"price\"])\n",
    "dfX = pd.concat([temp3.iloc[:,[0,1,3,4,6,7,9]], landuse_dummy, city_dummy, quality_dummy, heating_dummy], axis=1)\n"
   ]
  },
  {
   "cell_type": "code",
   "execution_count": 232,
   "metadata": {},
   "outputs": [],
   "source": [
    "from sklearn import linear_model\n",
    "clf = linear_model.Lasso(alpha=0.001)\n",
    "clf.fit(dfX, dfy2)\n",
    "ee = pd.concat([pd.DataFrame([np.exp(clf.predict(dfX)), temp3[\"price\"]])], axis=1) "
   ]
  },
  {
   "cell_type": "code",
   "execution_count": 234,
   "metadata": {},
   "outputs": [
    {
     "data": {
      "text/html": [
       "<div>\n",
       "<style>\n",
       "    .dataframe thead tr:only-child th {\n",
       "        text-align: right;\n",
       "    }\n",
       "\n",
       "    .dataframe thead th {\n",
       "        text-align: left;\n",
       "    }\n",
       "\n",
       "    .dataframe tbody tr th {\n",
       "        vertical-align: top;\n",
       "    }\n",
       "</style>\n",
       "<table border=\"1\" class=\"dataframe\">\n",
       "  <thead>\n",
       "    <tr style=\"text-align: right;\">\n",
       "      <th></th>\n",
       "      <th>0</th>\n",
       "      <th>1</th>\n",
       "    </tr>\n",
       "  </thead>\n",
       "  <tbody>\n",
       "    <tr>\n",
       "      <th>0</th>\n",
       "      <td>126524.692496</td>\n",
       "      <td>229399.0</td>\n",
       "    </tr>\n",
       "    <tr>\n",
       "      <th>1</th>\n",
       "      <td>129053.264087</td>\n",
       "      <td>118400.0</td>\n",
       "    </tr>\n",
       "    <tr>\n",
       "      <th>2</th>\n",
       "      <td>202237.869689</td>\n",
       "      <td>159612.0</td>\n",
       "    </tr>\n",
       "    <tr>\n",
       "      <th>3</th>\n",
       "      <td>216574.304919</td>\n",
       "      <td>270282.0</td>\n",
       "    </tr>\n",
       "    <tr>\n",
       "      <th>4</th>\n",
       "      <td>232363.299359</td>\n",
       "      <td>236017.0</td>\n",
       "    </tr>\n",
       "    <tr>\n",
       "      <th>5</th>\n",
       "      <td>189454.455925</td>\n",
       "      <td>205440.0</td>\n",
       "    </tr>\n",
       "    <tr>\n",
       "      <th>6</th>\n",
       "      <td>243048.147802</td>\n",
       "      <td>254366.0</td>\n",
       "    </tr>\n",
       "    <tr>\n",
       "      <th>7</th>\n",
       "      <td>118931.831769</td>\n",
       "      <td>130324.0</td>\n",
       "    </tr>\n",
       "    <tr>\n",
       "      <th>8</th>\n",
       "      <td>95203.995675</td>\n",
       "      <td>102315.0</td>\n",
       "    </tr>\n",
       "    <tr>\n",
       "      <th>9</th>\n",
       "      <td>95203.995675</td>\n",
       "      <td>176998.0</td>\n",
       "    </tr>\n",
       "    <tr>\n",
       "      <th>10</th>\n",
       "      <td>133147.992858</td>\n",
       "      <td>106000.0</td>\n",
       "    </tr>\n",
       "    <tr>\n",
       "      <th>11</th>\n",
       "      <td>118495.842833</td>\n",
       "      <td>114117.0</td>\n",
       "    </tr>\n",
       "    <tr>\n",
       "      <th>12</th>\n",
       "      <td>98413.216609</td>\n",
       "      <td>125147.0</td>\n",
       "    </tr>\n",
       "    <tr>\n",
       "      <th>13</th>\n",
       "      <td>103092.997981</td>\n",
       "      <td>131100.0</td>\n",
       "    </tr>\n",
       "    <tr>\n",
       "      <th>14</th>\n",
       "      <td>88102.537072</td>\n",
       "      <td>128346.0</td>\n",
       "    </tr>\n",
       "    <tr>\n",
       "      <th>15</th>\n",
       "      <td>179796.401512</td>\n",
       "      <td>194208.0</td>\n",
       "    </tr>\n",
       "    <tr>\n",
       "      <th>16</th>\n",
       "      <td>97463.400747</td>\n",
       "      <td>76111.0</td>\n",
       "    </tr>\n",
       "    <tr>\n",
       "      <th>17</th>\n",
       "      <td>107568.771299</td>\n",
       "      <td>73143.0</td>\n",
       "    </tr>\n",
       "    <tr>\n",
       "      <th>18</th>\n",
       "      <td>126676.347138</td>\n",
       "      <td>131300.0</td>\n",
       "    </tr>\n",
       "    <tr>\n",
       "      <th>19</th>\n",
       "      <td>101820.457922</td>\n",
       "      <td>53134.0</td>\n",
       "    </tr>\n",
       "    <tr>\n",
       "      <th>20</th>\n",
       "      <td>106264.436035</td>\n",
       "      <td>60143.0</td>\n",
       "    </tr>\n",
       "    <tr>\n",
       "      <th>21</th>\n",
       "      <td>137441.128116</td>\n",
       "      <td>194455.0</td>\n",
       "    </tr>\n",
       "    <tr>\n",
       "      <th>22</th>\n",
       "      <td>128076.620935</td>\n",
       "      <td>162230.0</td>\n",
       "    </tr>\n",
       "    <tr>\n",
       "      <th>23</th>\n",
       "      <td>194239.549865</td>\n",
       "      <td>82867.0</td>\n",
       "    </tr>\n",
       "    <tr>\n",
       "      <th>24</th>\n",
       "      <td>187819.275400</td>\n",
       "      <td>285045.0</td>\n",
       "    </tr>\n",
       "    <tr>\n",
       "      <th>25</th>\n",
       "      <td>212163.566585</td>\n",
       "      <td>195295.0</td>\n",
       "    </tr>\n",
       "    <tr>\n",
       "      <th>26</th>\n",
       "      <td>198462.889308</td>\n",
       "      <td>152541.0</td>\n",
       "    </tr>\n",
       "    <tr>\n",
       "      <th>27</th>\n",
       "      <td>151945.899822</td>\n",
       "      <td>211337.0</td>\n",
       "    </tr>\n",
       "    <tr>\n",
       "      <th>28</th>\n",
       "      <td>197982.740253</td>\n",
       "      <td>203672.0</td>\n",
       "    </tr>\n",
       "    <tr>\n",
       "      <th>29</th>\n",
       "      <td>182018.999043</td>\n",
       "      <td>170099.0</td>\n",
       "    </tr>\n",
       "  </tbody>\n",
       "</table>\n",
       "</div>"
      ],
      "text/plain": [
       "                0         1\n",
       "0   126524.692496  229399.0\n",
       "1   129053.264087  118400.0\n",
       "2   202237.869689  159612.0\n",
       "3   216574.304919  270282.0\n",
       "4   232363.299359  236017.0\n",
       "5   189454.455925  205440.0\n",
       "6   243048.147802  254366.0\n",
       "7   118931.831769  130324.0\n",
       "8    95203.995675  102315.0\n",
       "9    95203.995675  176998.0\n",
       "10  133147.992858  106000.0\n",
       "11  118495.842833  114117.0\n",
       "12   98413.216609  125147.0\n",
       "13  103092.997981  131100.0\n",
       "14   88102.537072  128346.0\n",
       "15  179796.401512  194208.0\n",
       "16   97463.400747   76111.0\n",
       "17  107568.771299   73143.0\n",
       "18  126676.347138  131300.0\n",
       "19  101820.457922   53134.0\n",
       "20  106264.436035   60143.0\n",
       "21  137441.128116  194455.0\n",
       "22  128076.620935  162230.0\n",
       "23  194239.549865   82867.0\n",
       "24  187819.275400  285045.0\n",
       "25  212163.566585  195295.0\n",
       "26  198462.889308  152541.0\n",
       "27  151945.899822  211337.0\n",
       "28  197982.740253  203672.0\n",
       "29  182018.999043  170099.0"
      ]
     },
     "execution_count": 234,
     "metadata": {},
     "output_type": "execute_result"
    }
   ],
   "source": [
    "ee.T.head(30)"
   ]
  },
  {
   "cell_type": "markdown",
   "metadata": {},
   "source": [
    "# pca로 다중공선성 제거 후 회귀분석"
   ]
  },
  {
   "cell_type": "code",
   "execution_count": 251,
   "metadata": {},
   "outputs": [
    {
     "data": {
      "text/html": [
       "<div>\n",
       "<style>\n",
       "    .dataframe thead tr:only-child th {\n",
       "        text-align: right;\n",
       "    }\n",
       "\n",
       "    .dataframe thead th {\n",
       "        text-align: left;\n",
       "    }\n",
       "\n",
       "    .dataframe tbody tr th {\n",
       "        vertical-align: top;\n",
       "    }\n",
       "</style>\n",
       "<table border=\"1\" class=\"dataframe\">\n",
       "  <thead>\n",
       "    <tr style=\"text-align: right;\">\n",
       "      <th></th>\n",
       "      <th>bath</th>\n",
       "      <th>bed</th>\n",
       "      <th>qualitytype</th>\n",
       "      <th>cfsf</th>\n",
       "      <th>aircondition</th>\n",
       "      <th>heating</th>\n",
       "      <th>spa</th>\n",
       "      <th>pool</th>\n",
       "      <th>landuse</th>\n",
       "      <th>year</th>\n",
       "      <th>cat_price</th>\n",
       "      <th>price</th>\n",
       "    </tr>\n",
       "  </thead>\n",
       "  <tbody>\n",
       "    <tr>\n",
       "      <th>0</th>\n",
       "      <td>2.0</td>\n",
       "      <td>2.0</td>\n",
       "      <td>B</td>\n",
       "      <td>1090.0</td>\n",
       "      <td>1.0</td>\n",
       "      <td>2.0</td>\n",
       "      <td>0.0</td>\n",
       "      <td>0.0</td>\n",
       "      <td>266.0</td>\n",
       "      <td>2004.0</td>\n",
       "      <td>12</td>\n",
       "      <td>229399.0</td>\n",
       "    </tr>\n",
       "    <tr>\n",
       "      <th>1</th>\n",
       "      <td>2.0</td>\n",
       "      <td>3.0</td>\n",
       "      <td>B</td>\n",
       "      <td>1766.0</td>\n",
       "      <td>0.0</td>\n",
       "      <td>2.0</td>\n",
       "      <td>0.0</td>\n",
       "      <td>1.0</td>\n",
       "      <td>261.0</td>\n",
       "      <td>1962.0</td>\n",
       "      <td>12</td>\n",
       "      <td>118400.0</td>\n",
       "    </tr>\n",
       "    <tr>\n",
       "      <th>3</th>\n",
       "      <td>3.0</td>\n",
       "      <td>5.0</td>\n",
       "      <td>B</td>\n",
       "      <td>2401.0</td>\n",
       "      <td>1.0</td>\n",
       "      <td>2.0</td>\n",
       "      <td>0.0</td>\n",
       "      <td>1.0</td>\n",
       "      <td>261.0</td>\n",
       "      <td>1965.0</td>\n",
       "      <td>12</td>\n",
       "      <td>159612.0</td>\n",
       "    </tr>\n",
       "  </tbody>\n",
       "</table>\n",
       "</div>"
      ],
      "text/plain": [
       "   bath  bed qualitytype    cfsf  aircondition  heating  spa  pool landuse  \\\n",
       "0   2.0  2.0           B  1090.0           1.0      2.0  0.0   0.0   266.0   \n",
       "1   2.0  3.0           B  1766.0           0.0      2.0  0.0   1.0   261.0   \n",
       "3   3.0  5.0           B  2401.0           1.0      2.0  0.0   1.0   261.0   \n",
       "\n",
       "     year cat_price     price  \n",
       "0  2004.0        12  229399.0  \n",
       "1  1962.0        12  118400.0  \n",
       "3  1965.0        12  159612.0  "
      ]
     },
     "execution_count": 251,
     "metadata": {},
     "output_type": "execute_result"
    }
   ],
   "source": [
    "temp3.head(3)"
   ]
  },
  {
   "cell_type": "code",
   "execution_count": 252,
   "metadata": {
    "collapsed": true
   },
   "outputs": [],
   "source": [
    "#독립변수들 표준화 \n",
    "from sklearn.preprocessing import StandardScaler\n",
    "def std(data):\n",
    "    numeric_columns = [\"bath\", \"bed\", \"cfsf\", \"year\"]\n",
    "    stdData = StandardScaler().fit_transform(data[numeric_columns])\n",
    "    stdData = pd.DataFrame(stdData, columns=numeric_columns)\n",
    "    return stdData"
   ]
  },
  {
   "cell_type": "code",
   "execution_count": 302,
   "metadata": {
    "collapsed": true
   },
   "outputs": [],
   "source": [
    "from sklearn.decomposition import PCA as sklearnPCA\n",
    "def pca(data, n):\n",
    "    col = [ \"PC\" + str(x+1) for x in range(n)]\n",
    "    tempPCA = sklearnPCA(n_components=n)\n",
    "    newIndex = tempPCA.fit_transform(data)\n",
    "    newData = pd.DataFrame(newIndex)\n",
    "    newData.columns = col\n",
    "    return newData, tempPCA"
   ]
  },
  {
   "cell_type": "code",
   "execution_count": 303,
   "metadata": {},
   "outputs": [
    {
     "data": {
      "text/html": [
       "<div>\n",
       "<style>\n",
       "    .dataframe thead tr:only-child th {\n",
       "        text-align: right;\n",
       "    }\n",
       "\n",
       "    .dataframe thead th {\n",
       "        text-align: left;\n",
       "    }\n",
       "\n",
       "    .dataframe tbody tr th {\n",
       "        vertical-align: top;\n",
       "    }\n",
       "</style>\n",
       "<table border=\"1\" class=\"dataframe\">\n",
       "  <thead>\n",
       "    <tr style=\"text-align: right;\">\n",
       "      <th></th>\n",
       "      <th>bath</th>\n",
       "      <th>bed</th>\n",
       "      <th>cfsf</th>\n",
       "      <th>year</th>\n",
       "    </tr>\n",
       "  </thead>\n",
       "  <tbody>\n",
       "    <tr>\n",
       "      <th>0</th>\n",
       "      <td>-0.007759</td>\n",
       "      <td>-1.205914</td>\n",
       "      <td>-0.917269</td>\n",
       "      <td>2.181538</td>\n",
       "    </tr>\n",
       "    <tr>\n",
       "      <th>1</th>\n",
       "      <td>-0.007759</td>\n",
       "      <td>0.039382</td>\n",
       "      <td>0.639194</td>\n",
       "      <td>0.163331</td>\n",
       "    </tr>\n",
       "    <tr>\n",
       "      <th>2</th>\n",
       "      <td>1.422929</td>\n",
       "      <td>2.529975</td>\n",
       "      <td>2.101257</td>\n",
       "      <td>0.307489</td>\n",
       "    </tr>\n",
       "  </tbody>\n",
       "</table>\n",
       "</div>"
      ],
      "text/plain": [
       "       bath       bed      cfsf      year\n",
       "0 -0.007759 -1.205914 -0.917269  2.181538\n",
       "1 -0.007759  0.039382  0.639194  0.163331\n",
       "2  1.422929  2.529975  2.101257  0.307489"
      ]
     },
     "execution_count": 303,
     "metadata": {},
     "output_type": "execute_result"
    }
   ],
   "source": [
    "stdData = std(temp3)\n",
    "stdData.head(3)"
   ]
  },
  {
   "cell_type": "code",
   "execution_count": 304,
   "metadata": {
    "collapsed": true
   },
   "outputs": [],
   "source": [
    "pcaData, PCA = pca(stdData, 3)"
   ]
  },
  {
   "cell_type": "code",
   "execution_count": 305,
   "metadata": {},
   "outputs": [
    {
     "data": {
      "text/html": [
       "<div>\n",
       "<style>\n",
       "    .dataframe thead tr:only-child th {\n",
       "        text-align: right;\n",
       "    }\n",
       "\n",
       "    .dataframe thead th {\n",
       "        text-align: left;\n",
       "    }\n",
       "\n",
       "    .dataframe tbody tr th {\n",
       "        vertical-align: top;\n",
       "    }\n",
       "</style>\n",
       "<table border=\"1\" class=\"dataframe\">\n",
       "  <thead>\n",
       "    <tr style=\"text-align: right;\">\n",
       "      <th></th>\n",
       "      <th>PC1</th>\n",
       "      <th>PC2</th>\n",
       "      <th>PC3</th>\n",
       "    </tr>\n",
       "  </thead>\n",
       "  <tbody>\n",
       "    <tr>\n",
       "      <th>0</th>\n",
       "      <td>-0.358796</td>\n",
       "      <td>-2.588967</td>\n",
       "      <td>0.386558</td>\n",
       "    </tr>\n",
       "    <tr>\n",
       "      <th>1</th>\n",
       "      <td>0.431078</td>\n",
       "      <td>0.069068</td>\n",
       "      <td>-0.180114</td>\n",
       "    </tr>\n",
       "    <tr>\n",
       "      <th>2</th>\n",
       "      <td>3.329710</td>\n",
       "      <td>1.281823</td>\n",
       "      <td>0.445466</td>\n",
       "    </tr>\n",
       "  </tbody>\n",
       "</table>\n",
       "</div>"
      ],
      "text/plain": [
       "        PC1       PC2       PC3\n",
       "0 -0.358796 -2.588967  0.386558\n",
       "1  0.431078  0.069068 -0.180114\n",
       "2  3.329710  1.281823  0.445466"
      ]
     },
     "execution_count": 305,
     "metadata": {},
     "output_type": "execute_result"
    }
   ],
   "source": [
    "pcaData.head(3)"
   ]
  },
  {
   "cell_type": "code",
   "execution_count": 306,
   "metadata": {
    "scrolled": true
   },
   "outputs": [
    {
     "data": {
      "image/png": "[encoded data removed]",
      "text/plain": [
       "<matplotlib.figure.Figure at 0x1b1931ed0>"
      ]
     },
     "metadata": {},
     "output_type": "display_data"
    }
   ],
   "source": [
    "def pcagraph(pca):\n",
    "    var = pca.explained_variance_\n",
    "    plt.bar(np.arange(1,len(var)+1), np.cumsum(var)/np.sum(var), color=\"lightseagreen\")\n",
    "    plt.show()\n",
    "\n",
    "pcagraph(PCA)"
   ]
  },
  {
   "cell_type": "code",
   "execution_count": 307,
   "metadata": {},
   "outputs": [
    {
     "data": {
      "text/html": [
       "<div>\n",
       "<style>\n",
       "    .dataframe thead tr:only-child th {\n",
       "        text-align: right;\n",
       "    }\n",
       "\n",
       "    .dataframe thead th {\n",
       "        text-align: left;\n",
       "    }\n",
       "\n",
       "    .dataframe tbody tr th {\n",
       "        vertical-align: top;\n",
       "    }\n",
       "</style>\n",
       "<table border=\"1\" class=\"dataframe\">\n",
       "  <thead>\n",
       "    <tr style=\"text-align: right;\">\n",
       "      <th></th>\n",
       "      <th>bath</th>\n",
       "      <th>bed</th>\n",
       "      <th>qualitytype</th>\n",
       "      <th>cfsf</th>\n",
       "      <th>aircondition</th>\n",
       "      <th>heating</th>\n",
       "      <th>spa</th>\n",
       "      <th>pool</th>\n",
       "      <th>landuse</th>\n",
       "      <th>year</th>\n",
       "      <th>cat_price</th>\n",
       "      <th>price</th>\n",
       "    </tr>\n",
       "  </thead>\n",
       "  <tbody>\n",
       "    <tr>\n",
       "      <th>0</th>\n",
       "      <td>2.0</td>\n",
       "      <td>2.0</td>\n",
       "      <td>B</td>\n",
       "      <td>1090.0</td>\n",
       "      <td>1.0</td>\n",
       "      <td>2.0</td>\n",
       "      <td>0.0</td>\n",
       "      <td>0.0</td>\n",
       "      <td>266.0</td>\n",
       "      <td>2004.0</td>\n",
       "      <td>12</td>\n",
       "      <td>229399.0</td>\n",
       "    </tr>\n",
       "    <tr>\n",
       "      <th>1</th>\n",
       "      <td>2.0</td>\n",
       "      <td>3.0</td>\n",
       "      <td>B</td>\n",
       "      <td>1766.0</td>\n",
       "      <td>0.0</td>\n",
       "      <td>2.0</td>\n",
       "      <td>0.0</td>\n",
       "      <td>1.0</td>\n",
       "      <td>261.0</td>\n",
       "      <td>1962.0</td>\n",
       "      <td>12</td>\n",
       "      <td>118400.0</td>\n",
       "    </tr>\n",
       "    <tr>\n",
       "      <th>2</th>\n",
       "      <td>3.0</td>\n",
       "      <td>5.0</td>\n",
       "      <td>B</td>\n",
       "      <td>2401.0</td>\n",
       "      <td>1.0</td>\n",
       "      <td>2.0</td>\n",
       "      <td>0.0</td>\n",
       "      <td>1.0</td>\n",
       "      <td>261.0</td>\n",
       "      <td>1965.0</td>\n",
       "      <td>12</td>\n",
       "      <td>159612.0</td>\n",
       "    </tr>\n",
       "    <tr>\n",
       "      <th>3</th>\n",
       "      <td>3.0</td>\n",
       "      <td>4.0</td>\n",
       "      <td>B</td>\n",
       "      <td>2397.0</td>\n",
       "      <td>1.0</td>\n",
       "      <td>2.0</td>\n",
       "      <td>0.0</td>\n",
       "      <td>1.0</td>\n",
       "      <td>261.0</td>\n",
       "      <td>1984.0</td>\n",
       "      <td>12</td>\n",
       "      <td>270282.0</td>\n",
       "    </tr>\n",
       "    <tr>\n",
       "      <th>4</th>\n",
       "      <td>3.0</td>\n",
       "      <td>4.0</td>\n",
       "      <td>B</td>\n",
       "      <td>2574.0</td>\n",
       "      <td>1.0</td>\n",
       "      <td>2.0</td>\n",
       "      <td>0.0</td>\n",
       "      <td>1.0</td>\n",
       "      <td>261.0</td>\n",
       "      <td>1981.0</td>\n",
       "      <td>12</td>\n",
       "      <td>236017.0</td>\n",
       "    </tr>\n",
       "  </tbody>\n",
       "</table>\n",
       "</div>"
      ],
      "text/plain": [
       "   bath  bed qualitytype    cfsf  aircondition  heating  spa  pool landuse  \\\n",
       "0   2.0  2.0           B  1090.0           1.0      2.0  0.0   0.0   266.0   \n",
       "1   2.0  3.0           B  1766.0           0.0      2.0  0.0   1.0   261.0   \n",
       "2   3.0  5.0           B  2401.0           1.0      2.0  0.0   1.0   261.0   \n",
       "3   3.0  4.0           B  2397.0           1.0      2.0  0.0   1.0   261.0   \n",
       "4   3.0  4.0           B  2574.0           1.0      2.0  0.0   1.0   261.0   \n",
       "\n",
       "     year cat_price     price  \n",
       "0  2004.0        12  229399.0  \n",
       "1  1962.0        12  118400.0  \n",
       "2  1965.0        12  159612.0  \n",
       "3  1984.0        12  270282.0  \n",
       "4  1981.0        12  236017.0  "
      ]
     },
     "execution_count": 307,
     "metadata": {},
     "output_type": "execute_result"
    }
   ],
   "source": [
    "a = np.arange(len(temp3))\n",
    "temp3 = temp3.set_index(a)\n",
    "temp3.head()"
   ]
  },
  {
   "cell_type": "code",
   "execution_count": 308,
   "metadata": {
    "collapsed": true
   },
   "outputs": [],
   "source": [
    "tp = temp3[[\"qualitytype\", \"aircondition\", \"spa\", \"pool\", \"landuse\", \"cat_price\", \"price\"]]"
   ]
  },
  {
   "cell_type": "code",
   "execution_count": 309,
   "metadata": {},
   "outputs": [
    {
     "data": {
      "text/html": [
       "<div>\n",
       "<style>\n",
       "    .dataframe thead tr:only-child th {\n",
       "        text-align: right;\n",
       "    }\n",
       "\n",
       "    .dataframe thead th {\n",
       "        text-align: left;\n",
       "    }\n",
       "\n",
       "    .dataframe tbody tr th {\n",
       "        vertical-align: top;\n",
       "    }\n",
       "</style>\n",
       "<table border=\"1\" class=\"dataframe\">\n",
       "  <thead>\n",
       "    <tr style=\"text-align: right;\">\n",
       "      <th></th>\n",
       "      <th>PC1</th>\n",
       "      <th>PC2</th>\n",
       "      <th>PC3</th>\n",
       "      <th>qualitytype</th>\n",
       "      <th>aircondition</th>\n",
       "      <th>spa</th>\n",
       "      <th>pool</th>\n",
       "      <th>landuse</th>\n",
       "      <th>cat_price</th>\n",
       "      <th>price</th>\n",
       "    </tr>\n",
       "  </thead>\n",
       "  <tbody>\n",
       "    <tr>\n",
       "      <th>0</th>\n",
       "      <td>-0.358796</td>\n",
       "      <td>-2.588967</td>\n",
       "      <td>0.386558</td>\n",
       "      <td>B</td>\n",
       "      <td>1.0</td>\n",
       "      <td>0.0</td>\n",
       "      <td>0.0</td>\n",
       "      <td>266.0</td>\n",
       "      <td>12</td>\n",
       "      <td>229399.0</td>\n",
       "    </tr>\n",
       "    <tr>\n",
       "      <th>1</th>\n",
       "      <td>0.431078</td>\n",
       "      <td>0.069068</td>\n",
       "      <td>-0.180114</td>\n",
       "      <td>B</td>\n",
       "      <td>0.0</td>\n",
       "      <td>0.0</td>\n",
       "      <td>1.0</td>\n",
       "      <td>261.0</td>\n",
       "      <td>12</td>\n",
       "      <td>118400.0</td>\n",
       "    </tr>\n",
       "    <tr>\n",
       "      <th>2</th>\n",
       "      <td>3.329710</td>\n",
       "      <td>1.281823</td>\n",
       "      <td>0.445466</td>\n",
       "      <td>B</td>\n",
       "      <td>1.0</td>\n",
       "      <td>0.0</td>\n",
       "      <td>1.0</td>\n",
       "      <td>261.0</td>\n",
       "      <td>12</td>\n",
       "      <td>159612.0</td>\n",
       "    </tr>\n",
       "  </tbody>\n",
       "</table>\n",
       "</div>"
      ],
      "text/plain": [
       "        PC1       PC2       PC3 qualitytype  aircondition  spa  pool landuse  \\\n",
       "0 -0.358796 -2.588967  0.386558           B           1.0  0.0   0.0   266.0   \n",
       "1  0.431078  0.069068 -0.180114           B           0.0  0.0   1.0   261.0   \n",
       "2  3.329710  1.281823  0.445466           B           1.0  0.0   1.0   261.0   \n",
       "\n",
       "  cat_price     price  \n",
       "0        12  229399.0  \n",
       "1        12  118400.0  \n",
       "2        12  159612.0  "
      ]
     },
     "execution_count": 309,
     "metadata": {},
     "output_type": "execute_result"
    }
   ],
   "source": [
    "pcaData2 = pd.concat([pcaData, tp], axis=1)\n",
    "pcaData2.head(3)"
   ]
  },
  {
   "cell_type": "code",
   "execution_count": 341,
   "metadata": {},
   "outputs": [
    {
     "name": "stdout",
     "output_type": "stream",
     "text": [
      "                            OLS Regression Results                            \n",
      "==============================================================================\n",
      "Dep. Variable:                  price   R-squared:                       0.384\n",
      "Model:                            OLS   Adj. R-squared:                  0.384\n",
      "Method:                 Least Squares   F-statistic:                 2.134e+05\n",
      "Date:                Sat, 08 Jul 2017   Prob (F-statistic):               0.00\n",
      "Time:                        18:18:02   Log-Likelihood:            -1.6684e+07\n",
      "No. Observations:             1371009   AIC:                         3.337e+07\n",
      "Df Residuals:                 1371004   BIC:                         3.337e+07\n",
      "Df Model:                           4                                         \n",
      "Covariance Type:            nonrobust                                         \n",
      "==================================================================================\n",
      "                     coef    std err          t      P>|t|      [0.025      0.975]\n",
      "----------------------------------------------------------------------------------\n",
      "Intercept       1.165e+05     43.941   2651.342      0.000    1.16e+05    1.17e+05\n",
      "C(pool)[T.1.0]  1.235e+04    107.535    114.892      0.000    1.21e+04    1.26e+04\n",
      "PC1             2.188e+04     26.727    818.671      0.000    2.18e+04    2.19e+04\n",
      "PC2            -8790.6144     40.017   -219.670      0.000   -8869.047   -8712.182\n",
      "PC3            -1.574e+04     59.171   -266.072      0.000   -1.59e+04   -1.56e+04\n",
      "==============================================================================\n",
      "Omnibus:                    32883.194   Durbin-Watson:                   1.804\n",
      "Prob(Omnibus):                  0.000   Jarque-Bera (JB):            35478.839\n",
      "Skew:                           0.379   Prob(JB):                         0.00\n",
      "Kurtosis:                       3.213   Cond. No.                         4.14\n",
      "==============================================================================\n",
      "\n",
      "Warnings:\n",
      "[1] Standard Errors assume that the covariance matrix of the errors is correctly specified.\n"
     ]
    }
   ],
   "source": [
    "model = sm.OLS.from_formula(\"price ~ PC1 + PC2 + PC3 + C(pool)\", data=pcaData2).fit()\n",
    "print(model.summary())"
   ]
  },
  {
   "cell_type": "code",
   "execution_count": 342,
   "metadata": {
    "collapsed": true
   },
   "outputs": [],
   "source": [
    "prePca = predict(model, pcaData2)"
   ]
  },
  {
   "cell_type": "code",
   "execution_count": 348,
   "metadata": {},
   "outputs": [
    {
     "data": {
      "text/html": [
       "<div>\n",
       "<style>\n",
       "    .dataframe thead tr:only-child th {\n",
       "        text-align: right;\n",
       "    }\n",
       "\n",
       "    .dataframe thead th {\n",
       "        text-align: left;\n",
       "    }\n",
       "\n",
       "    .dataframe tbody tr th {\n",
       "        vertical-align: top;\n",
       "    }\n",
       "</style>\n",
       "<table border=\"1\" class=\"dataframe\">\n",
       "  <thead>\n",
       "    <tr style=\"text-align: right;\">\n",
       "      <th></th>\n",
       "      <th>predict</th>\n",
       "      <th>price</th>\n",
       "    </tr>\n",
       "  </thead>\n",
       "  <tbody>\n",
       "    <tr>\n",
       "      <th>0</th>\n",
       "      <td>125323.403337</td>\n",
       "      <td>229399.0</td>\n",
       "    </tr>\n",
       "    <tr>\n",
       "      <th>1</th>\n",
       "      <td>140517.088416</td>\n",
       "      <td>118400.0</td>\n",
       "    </tr>\n",
       "    <tr>\n",
       "      <th>2</th>\n",
       "      <td>183431.079217</td>\n",
       "      <td>159612.0</td>\n",
       "    </tr>\n",
       "    <tr>\n",
       "      <th>3</th>\n",
       "      <td>197111.509965</td>\n",
       "      <td>270282.0</td>\n",
       "    </tr>\n",
       "    <tr>\n",
       "      <th>4</th>\n",
       "      <td>202693.557559</td>\n",
       "      <td>236017.0</td>\n",
       "    </tr>\n",
       "    <tr>\n",
       "      <th>5</th>\n",
       "      <td>182865.054018</td>\n",
       "      <td>205440.0</td>\n",
       "    </tr>\n",
       "    <tr>\n",
       "      <th>6</th>\n",
       "      <td>206835.983624</td>\n",
       "      <td>254366.0</td>\n",
       "    </tr>\n",
       "    <tr>\n",
       "      <th>7</th>\n",
       "      <td>153345.108579</td>\n",
       "      <td>130324.0</td>\n",
       "    </tr>\n",
       "    <tr>\n",
       "      <th>8</th>\n",
       "      <td>122450.896581</td>\n",
       "      <td>102315.0</td>\n",
       "    </tr>\n",
       "    <tr>\n",
       "      <th>9</th>\n",
       "      <td>122450.896581</td>\n",
       "      <td>176998.0</td>\n",
       "    </tr>\n",
       "    <tr>\n",
       "      <th>10</th>\n",
       "      <td>126856.900477</td>\n",
       "      <td>106000.0</td>\n",
       "    </tr>\n",
       "    <tr>\n",
       "      <th>11</th>\n",
       "      <td>131030.172320</td>\n",
       "      <td>114117.0</td>\n",
       "    </tr>\n",
       "    <tr>\n",
       "      <th>12</th>\n",
       "      <td>121442.366512</td>\n",
       "      <td>125147.0</td>\n",
       "    </tr>\n",
       "    <tr>\n",
       "      <th>13</th>\n",
       "      <td>136383.329119</td>\n",
       "      <td>131100.0</td>\n",
       "    </tr>\n",
       "    <tr>\n",
       "      <th>14</th>\n",
       "      <td>110095.908623</td>\n",
       "      <td>128346.0</td>\n",
       "    </tr>\n",
       "    <tr>\n",
       "      <th>15</th>\n",
       "      <td>173685.196863</td>\n",
       "      <td>194208.0</td>\n",
       "    </tr>\n",
       "    <tr>\n",
       "      <th>16</th>\n",
       "      <td>119033.329279</td>\n",
       "      <td>76111.0</td>\n",
       "    </tr>\n",
       "    <tr>\n",
       "      <th>17</th>\n",
       "      <td>119838.439109</td>\n",
       "      <td>73143.0</td>\n",
       "    </tr>\n",
       "    <tr>\n",
       "      <th>18</th>\n",
       "      <td>124978.673310</td>\n",
       "      <td>131300.0</td>\n",
       "    </tr>\n",
       "    <tr>\n",
       "      <th>19</th>\n",
       "      <td>91499.821150</td>\n",
       "      <td>53134.0</td>\n",
       "    </tr>\n",
       "  </tbody>\n",
       "</table>\n",
       "</div>"
      ],
      "text/plain": [
       "          predict     price\n",
       "0   125323.403337  229399.0\n",
       "1   140517.088416  118400.0\n",
       "2   183431.079217  159612.0\n",
       "3   197111.509965  270282.0\n",
       "4   202693.557559  236017.0\n",
       "5   182865.054018  205440.0\n",
       "6   206835.983624  254366.0\n",
       "7   153345.108579  130324.0\n",
       "8   122450.896581  102315.0\n",
       "9   122450.896581  176998.0\n",
       "10  126856.900477  106000.0\n",
       "11  131030.172320  114117.0\n",
       "12  121442.366512  125147.0\n",
       "13  136383.329119  131100.0\n",
       "14  110095.908623  128346.0\n",
       "15  173685.196863  194208.0\n",
       "16  119033.329279   76111.0\n",
       "17  119838.439109   73143.0\n",
       "18  124978.673310  131300.0\n",
       "19   91499.821150   53134.0"
      ]
     },
     "execution_count": 348,
     "metadata": {},
     "output_type": "execute_result"
    }
   ],
   "source": [
    "prePca.head(20)"
   ]
  },
  {
   "cell_type": "code",
   "execution_count": null,
   "metadata": {
    "collapsed": true
   },
   "outputs": [],
   "source": []
  }
 ],
 "metadata": {
  "kernelspec": {
   "display_name": "Python 2",
   "language": "python",
   "name": "python2"
  },
  "language_info": {
   "codemirror_mode": {
    "name": "ipython",
    "version": 2
   },
   "file_extension": ".py",
   "mimetype": "text/x-python",
   "name": "python",
   "nbconvert_exporter": "python",
   "pygments_lexer": "ipython2",
   "version": "2.7.13"
  }
 },
 "nbformat": 4,
 "nbformat_minor": 2
}
